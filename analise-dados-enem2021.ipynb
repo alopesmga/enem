{
 "cells": [
  {
   "cell_type": "markdown",
   "id": "316f7f1d-33e9-4d3a-a483-ac2b17c40d22",
   "metadata": {
    "tags": []
   },
   "source": [
    "# Projeto Final Big Data Science - em elaboração"
   ]
  },
  {
   "cell_type": "markdown",
   "id": "88cf7925-15f7-4752-86b4-5b4e5b233617",
   "metadata": {},
   "source": [
    "- Aluno: Aline Lopes (alopesmga@gmail.com)\n",
    "\n",
    "- bióloga, doutora em ecologia. \n",
    "\n",
    "- Turma: Dezembro de 2022\n",
    "\n",
    "- Projeto: Análise dos dados coletados no ENEM 2021"
   ]
  },
  {
   "attachments": {
    "image.png": {
     "image/png": "[encoded data removed]"
    }
   },
   "cell_type": "markdown",
   "id": "fbff1b4a-de88-4c1e-b461-4e0092b2cf9b",
   "metadata": {},
   "source": [
    "# Desempenho das pessoas com deficiencia no ENEM 2021\n",
    "\n",
    "## Resumo: \n",
    "\n",
    "O processo de inclusão de pessoas com necessidades especiais, sobretudo, no ensino superior, ainda se encontra marcado\n",
    "por indefinições, apesar de muitas instituições se mostrarem receptivas à chegada dessas pessoas. O objetivo deste estudo foi analisar os dados do ENEM 2021 e verificar a inclusão de pessoas com necessidades educacionais especiais em Instituições de Ensino Superior por meio da avaliação da nota do Enem. A inclusão de pessoas com Necessidades Educacionais Especiais no ensino superior enfrenta desafios, tais como: a dificuldade na acessibilidade da estrutura física das Instituições de Ensino Superior, falta de preparo dos professores, funcionários e gestores das universidades para receber esse público. As novas profissoes tecnológicas e o trabalho e estudo remoto podem ser boas alternativas para promover a inclusão de PcDs no ensino superior.\n",
    "\n",
    "\n",
    "### Palavras -Chave : Pessoas com necessidades especiais, Inclusão escolar, Avaliação.\n",
    "\n",
    "## Introdução\n",
    "---\n",
    "\n",
    "A concepção de educação inclusiva busca contemplar a atenção para as diferentes necessidades decorrentes de condições humanas individuais. Assim, o termo necessidade especial coloca ênfase nas ações que a escola deve promover para responder às diferentes necessidades dos alunos. Neste trabalho, adotou-se a designação necessidade educacional especial (NEE), por englobar num sentido amplo todas as pessoas que são portadoras de alguma deficiência6, seja esta, de ordem física, cognitiva, socioeconômico e/ou cultural, que interfiram na acessibilidade, à qual, o indivíduo tem direito de adquirir ou usufruir\n",
    "(OLIVEIRA et al, 2016; FERRARI; SEKKEL, 2007).\n",
    "\n",
    "De acordo com dados do IBGE, o percentual de pessoas com deficiencia (PcD) nas universidades não chega a 1%. De 2017 para 2018, houve um crescimento de 70% no número de pessoas com deficiência matriculados nas universidades por meio da reserva de vagas, de acordo com o Censo Superior da Educação. O número de matriculados PcD com cotas passou de 2.962 (0,04% do total de matriculados), em 2017, para 5.053 (0,06% do total de matriculados), em 2018. Apesar do crescimento, essa parcela da população ainda representa apenas 0,52% do total de matriculados em cursos de graduação do ensino superior, com 43.633 estudantes em 2018. Mesmo que o percentual ainda seja baixo, as novas tecnologias assistivas possibilitam que esse número cresça ainda mais nos próximos anos. \n",
    "\n",
    "As novas profissões na área de tecnologia podem facilitam o acesso das PcD ao mercado de trabalho. Outro ponto positivo pode ser o aumento de oportunidade de trabalho remoto que evita as dificildade de deslocamento que muitas vezes são encontradas nos ambientes de trabalho.\n",
    "\n",
    "O Enem é utilizado como critério de seleção para os estudantes que pretendem concorrer a uma bolsa no Programa Universidade para Todos (ProUni). Além disso, cerca de 500 universidades já usam o resultado do exame como critério de seleção para o ingresso no ensino superior, seja complementando ou substituindo o vestibular.O Exame Nacional do Ensino Médio (Enem) tem como objetivo primordial aferir se aqueles que dele participam demonstram, ao final do ensino médio, individualmente, domínio dos princípios científicos e tecnológicos que presidem a produção moderna e se detêm conhecimento das formas contemporâneas de linguagem.\n",
    "\n",
    "O Exame é  composto de 180 questões objetivas de múltipla escolha e uma redação.  As questões são divididas em  Ciências da Natureza e suas Tecnologias e Ciências Humanas e suas Tecnologias, Redação e Linguagens, Códigos e suas Tecnologias e Matemática e suas Tecnologias. Além das provas objetivas e da redação, os participantes do Enem respondem a um questionário que contempla questões sobre seu nível socioeconômico, família, educação e trabalho. Em 2021 o questionário foi composto por 25 questões.\n",
    "\n",
    "\n",
    "\n",
    "## Objetivo\n",
    "---\n",
    "Entender fatores que influenciam o desempenho das pessoas com necessidades especiais no ENEM 2021.\n",
    "\n",
    "\n",
    "## Material e Métodos\n",
    "\n",
    "Os arquivos para análise são disponibilizados em um conjuntos de arquivos contendo as provas, os gabaritos, as informações sobre os itens, e as notas e o questionário respondido pelos inscritos no Enem. Conta ainda com um dicionário onde obtem mais informações sobre as variáveis contidas em cada base.\n",
    "\n",
    "Após a aquisição dos dados, foi feita a limpeza dos dados e análises exploratórias dos dados. Despois foi verificada em qual área as pessoas PcDs tinham maiores notas e feita a modelagem dos dados.\n",
    "\n",
    "## Resultados\n",
    "\n",
    " Quando análisado o perfil geral dos participantes encontramos no ENEM de 2021 3.389.832 inscritos, sendo que 51% estão na faixa estária entre 17 e 19 anos, 62% são do sexo feminino, 88% são solteiros, 53% já concluiram o ensino médio e 34% irão concluir no ano de 2021, 43% são da cor/raça parda e \n",
    " \n",
    " ![image.png](attachment:image.png)\n",
    " \n",
    " - Os 3 principais estados das escolas dos participantes são São Paulo (SP), Ceará (CE) e Minas Gerais (MG)\n",
    "- 67% dos participantes são de escola estadual\n",
    "- 26% de escola privada \n",
    "- 96% das escolas estão localizadas em área urbana\n",
    "\n",
    "Os procedimentos de cálculo das notas dos participantes e de análise dos itens no Enem têm como base a Teoria de Resposta ao Item (TRI). A TRI é um conjunto de modelos matemáticos que busca representar a relação entre a probabilidade de o participante responder corretamente a uma questão, seu conhecimento na área em que está sendo avaliado e as características (parâmetros) dos itens.\n",
    "\n",
    "Um aspecto importante da TRI é que ela considera a particularidade de cada item. Assim, as notas não dependem do total de itens da prova, mas de cada item que a compõe. Dessa forma, duas pessoas com a mesma quantidade de acertos na prova são avaliadas de forma distintas a depender de quais itens estão certos e errados e podem, assim, ter notas diferentes.\n",
    "\n",
    "- A taxa de presença dos participantes nos dois dias de prova é de 66%\n",
    "- O dia com maior ausência foi o das provas de Ciências da Natureza e Matemática (33%)\n",
    "- Ciências da Natureza: média de 491.79 e máximo de 867.1\n",
    "- Ciências Humanas: média de 519.94 e máximo de 846.9\n",
    "- Linguagens e Códigos: média de 502.56 e máximo de 826.1\n",
    "- Matemática: média 535.08 e máximo de 953.1\n",
    "- Na escolha da Língua Estrangeira  53% escolheram Inglês e 47% Espanhol\n",
    "\n",
    "- 96% dos participantes não tiveram problemas com a redação como deixar em branco ou fugir do tema.\n",
    "- A nota média de redação foi de 430.45\n",
    "- 32% dos participantes tiveram o resultado de 0.0\n",
    "\n",
    "\n",
    "\n",
    "## Referências\n",
    "\n",
    "https://www.gov.br/inep/pt-br/acesso-a-informacao/dados-abertos/microdados \n",
    "\n",
    "Dados: Aquisição dos dados através INSTITUTO NACIONAL DE ESTUDOS E PESQUISAS EDUCACIONAIS ANÍSIO TEIXEIRA. Microdados do Enem 2021. Brasília: Inep, 2022. Disponível em: https://www.gov.br/inep/pt-br/acesso-a-informacao/dados-abertos/microdados/enem. Acesso em: 15 ago. 2022.\n",
    "\n"
   ]
  },
  {
   "cell_type": "code",
   "execution_count": 1,
   "id": "6cbf35a3-8bdd-4eff-8d0a-ec41173c5b67",
   "metadata": {},
   "outputs": [],
   "source": [
    "import matplotlib.pyplot as plt\n",
    "import pandas as pd\n",
    "import seaborn as sns\n",
    "\n",
    "from datetime import datetime\n",
    "\n",
    "import missingno as msno\n",
    "import warnings \n",
    "warnings.filterwarnings(\"ignore\")\n",
    "import statistics  as sts"
   ]
  },
  {
   "cell_type": "code",
   "execution_count": 2,
   "id": "5689b153-d55e-45b1-9ed9-4517b0771cb0",
   "metadata": {},
   "outputs": [
    {
     "name": "stdout",
     "output_type": "stream",
     "text": [
      "Tempo para leitura dos dados: 0:00:45.467569\n"
     ]
    },
    {
     "data": {
      "text/html": [
       "<div>\n",
       "<style scoped>\n",
       "    .dataframe tbody tr th:only-of-type {\n",
       "        vertical-align: middle;\n",
       "    }\n",
       "\n",
       "    .dataframe tbody tr th {\n",
       "        vertical-align: top;\n",
       "    }\n",
       "\n",
       "    .dataframe thead th {\n",
       "        text-align: right;\n",
       "    }\n",
       "</style>\n",
       "<table border=\"1\" class=\"dataframe\">\n",
       "  <thead>\n",
       "    <tr style=\"text-align: right;\">\n",
       "      <th></th>\n",
       "      <th>NU_INSCRICAO</th>\n",
       "      <th>NU_ANO</th>\n",
       "      <th>TP_FAIXA_ETARIA</th>\n",
       "      <th>TP_SEXO</th>\n",
       "      <th>TP_ESTADO_CIVIL</th>\n",
       "      <th>TP_COR_RACA</th>\n",
       "      <th>TP_NACIONALIDADE</th>\n",
       "      <th>TP_ST_CONCLUSAO</th>\n",
       "      <th>TP_ANO_CONCLUIU</th>\n",
       "      <th>TP_ESCOLA</th>\n",
       "      <th>...</th>\n",
       "      <th>Q016</th>\n",
       "      <th>Q017</th>\n",
       "      <th>Q018</th>\n",
       "      <th>Q019</th>\n",
       "      <th>Q020</th>\n",
       "      <th>Q021</th>\n",
       "      <th>Q022</th>\n",
       "      <th>Q023</th>\n",
       "      <th>Q024</th>\n",
       "      <th>Q025</th>\n",
       "    </tr>\n",
       "  </thead>\n",
       "  <tbody>\n",
       "    <tr>\n",
       "      <th>0</th>\n",
       "      <td>210053865474</td>\n",
       "      <td>2021</td>\n",
       "      <td>5</td>\n",
       "      <td>F</td>\n",
       "      <td>1</td>\n",
       "      <td>1</td>\n",
       "      <td>1</td>\n",
       "      <td>1</td>\n",
       "      <td>3</td>\n",
       "      <td>1</td>\n",
       "      <td>...</td>\n",
       "      <td>A</td>\n",
       "      <td>A</td>\n",
       "      <td>A</td>\n",
       "      <td>B</td>\n",
       "      <td>A</td>\n",
       "      <td>A</td>\n",
       "      <td>B</td>\n",
       "      <td>A</td>\n",
       "      <td>B</td>\n",
       "      <td>B</td>\n",
       "    </tr>\n",
       "    <tr>\n",
       "      <th>1</th>\n",
       "      <td>210052384164</td>\n",
       "      <td>2021</td>\n",
       "      <td>12</td>\n",
       "      <td>M</td>\n",
       "      <td>1</td>\n",
       "      <td>1</td>\n",
       "      <td>1</td>\n",
       "      <td>1</td>\n",
       "      <td>11</td>\n",
       "      <td>1</td>\n",
       "      <td>...</td>\n",
       "      <td>A</td>\n",
       "      <td>A</td>\n",
       "      <td>A</td>\n",
       "      <td>B</td>\n",
       "      <td>A</td>\n",
       "      <td>A</td>\n",
       "      <td>C</td>\n",
       "      <td>A</td>\n",
       "      <td>A</td>\n",
       "      <td>A</td>\n",
       "    </tr>\n",
       "    <tr>\n",
       "      <th>2</th>\n",
       "      <td>210052589243</td>\n",
       "      <td>2021</td>\n",
       "      <td>13</td>\n",
       "      <td>F</td>\n",
       "      <td>3</td>\n",
       "      <td>1</td>\n",
       "      <td>1</td>\n",
       "      <td>1</td>\n",
       "      <td>15</td>\n",
       "      <td>1</td>\n",
       "      <td>...</td>\n",
       "      <td>B</td>\n",
       "      <td>A</td>\n",
       "      <td>A</td>\n",
       "      <td>B</td>\n",
       "      <td>A</td>\n",
       "      <td>A</td>\n",
       "      <td>C</td>\n",
       "      <td>B</td>\n",
       "      <td>B</td>\n",
       "      <td>B</td>\n",
       "    </tr>\n",
       "    <tr>\n",
       "      <th>3</th>\n",
       "      <td>210052128335</td>\n",
       "      <td>2021</td>\n",
       "      <td>3</td>\n",
       "      <td>M</td>\n",
       "      <td>1</td>\n",
       "      <td>3</td>\n",
       "      <td>1</td>\n",
       "      <td>2</td>\n",
       "      <td>0</td>\n",
       "      <td>2</td>\n",
       "      <td>...</td>\n",
       "      <td>A</td>\n",
       "      <td>A</td>\n",
       "      <td>A</td>\n",
       "      <td>B</td>\n",
       "      <td>A</td>\n",
       "      <td>A</td>\n",
       "      <td>B</td>\n",
       "      <td>A</td>\n",
       "      <td>B</td>\n",
       "      <td>B</td>\n",
       "    </tr>\n",
       "    <tr>\n",
       "      <th>4</th>\n",
       "      <td>210051353021</td>\n",
       "      <td>2021</td>\n",
       "      <td>2</td>\n",
       "      <td>F</td>\n",
       "      <td>1</td>\n",
       "      <td>3</td>\n",
       "      <td>1</td>\n",
       "      <td>2</td>\n",
       "      <td>0</td>\n",
       "      <td>2</td>\n",
       "      <td>...</td>\n",
       "      <td>B</td>\n",
       "      <td>A</td>\n",
       "      <td>A</td>\n",
       "      <td>B</td>\n",
       "      <td>A</td>\n",
       "      <td>B</td>\n",
       "      <td>E</td>\n",
       "      <td>A</td>\n",
       "      <td>B</td>\n",
       "      <td>B</td>\n",
       "    </tr>\n",
       "  </tbody>\n",
       "</table>\n",
       "<p>5 rows × 76 columns</p>\n",
       "</div>"
      ],
      "text/plain": [
       "   NU_INSCRICAO  NU_ANO  TP_FAIXA_ETARIA TP_SEXO  TP_ESTADO_CIVIL  \\\n",
       "0  210053865474    2021                5       F                1   \n",
       "1  210052384164    2021               12       M                1   \n",
       "2  210052589243    2021               13       F                3   \n",
       "3  210052128335    2021                3       M                1   \n",
       "4  210051353021    2021                2       F                1   \n",
       "\n",
       "   TP_COR_RACA  TP_NACIONALIDADE  TP_ST_CONCLUSAO  TP_ANO_CONCLUIU  TP_ESCOLA  \\\n",
       "0            1                 1                1                3          1   \n",
       "1            1                 1                1               11          1   \n",
       "2            1                 1                1               15          1   \n",
       "3            3                 1                2                0          2   \n",
       "4            3                 1                2                0          2   \n",
       "\n",
       "   ...  Q016  Q017  Q018 Q019  Q020 Q021  Q022  Q023  Q024  Q025  \n",
       "0  ...     A     A     A    B     A    A     B     A     B     B  \n",
       "1  ...     A     A     A    B     A    A     C     A     A     A  \n",
       "2  ...     B     A     A    B     A    A     C     B     B     B  \n",
       "3  ...     A     A     A    B     A    A     B     A     B     B  \n",
       "4  ...     B     A     A    B     A    B     E     A     B     B  \n",
       "\n",
       "[5 rows x 76 columns]"
      ]
     },
     "execution_count": 2,
     "metadata": {},
     "output_type": "execute_result"
    }
   ],
   "source": [
    "start = datetime.now()\n",
    "df = pd.read_csv(\"C:/Users/alope/Documents/Python Scripts/Dados/MICRODADOS_ENEM_2021.csv\", sep=\";\", encoding = \"ISO-8859-1\")\n",
    "print(f'Tempo para leitura dos dados: {datetime.now() - start}')\n",
    "    \n",
    "df.head()\n",
    "\n"
   ]
  },
  {
   "cell_type": "code",
   "execution_count": 3,
   "id": "bbe4f153-d03c-47fe-842a-1a3c6b3258e6",
   "metadata": {},
   "outputs": [
    {
     "data": {
      "text/html": [
       "<div>\n",
       "<style scoped>\n",
       "    .dataframe tbody tr th:only-of-type {\n",
       "        vertical-align: middle;\n",
       "    }\n",
       "\n",
       "    .dataframe tbody tr th {\n",
       "        vertical-align: top;\n",
       "    }\n",
       "\n",
       "    .dataframe thead th {\n",
       "        text-align: right;\n",
       "    }\n",
       "</style>\n",
       "<table border=\"1\" class=\"dataframe\">\n",
       "  <thead>\n",
       "    <tr style=\"text-align: right;\">\n",
       "      <th></th>\n",
       "      <th>NU_INSCRICAO</th>\n",
       "      <th>NU_ANO</th>\n",
       "      <th>TP_FAIXA_ETARIA</th>\n",
       "      <th>TP_SEXO</th>\n",
       "      <th>TP_ESTADO_CIVIL</th>\n",
       "      <th>TP_COR_RACA</th>\n",
       "      <th>TP_NACIONALIDADE</th>\n",
       "      <th>TP_ST_CONCLUSAO</th>\n",
       "      <th>TP_ANO_CONCLUIU</th>\n",
       "      <th>TP_ESCOLA</th>\n",
       "      <th>...</th>\n",
       "      <th>Q016</th>\n",
       "      <th>Q017</th>\n",
       "      <th>Q018</th>\n",
       "      <th>Q019</th>\n",
       "      <th>Q020</th>\n",
       "      <th>Q021</th>\n",
       "      <th>Q022</th>\n",
       "      <th>Q023</th>\n",
       "      <th>Q024</th>\n",
       "      <th>Q025</th>\n",
       "    </tr>\n",
       "  </thead>\n",
       "  <tbody>\n",
       "    <tr>\n",
       "      <th>0</th>\n",
       "      <td>210053865474</td>\n",
       "      <td>2021</td>\n",
       "      <td>5</td>\n",
       "      <td>F</td>\n",
       "      <td>1</td>\n",
       "      <td>1</td>\n",
       "      <td>1</td>\n",
       "      <td>1</td>\n",
       "      <td>3</td>\n",
       "      <td>1</td>\n",
       "      <td>...</td>\n",
       "      <td>A</td>\n",
       "      <td>A</td>\n",
       "      <td>A</td>\n",
       "      <td>B</td>\n",
       "      <td>A</td>\n",
       "      <td>A</td>\n",
       "      <td>B</td>\n",
       "      <td>A</td>\n",
       "      <td>B</td>\n",
       "      <td>B</td>\n",
       "    </tr>\n",
       "    <tr>\n",
       "      <th>1</th>\n",
       "      <td>210052384164</td>\n",
       "      <td>2021</td>\n",
       "      <td>12</td>\n",
       "      <td>M</td>\n",
       "      <td>1</td>\n",
       "      <td>1</td>\n",
       "      <td>1</td>\n",
       "      <td>1</td>\n",
       "      <td>11</td>\n",
       "      <td>1</td>\n",
       "      <td>...</td>\n",
       "      <td>A</td>\n",
       "      <td>A</td>\n",
       "      <td>A</td>\n",
       "      <td>B</td>\n",
       "      <td>A</td>\n",
       "      <td>A</td>\n",
       "      <td>C</td>\n",
       "      <td>A</td>\n",
       "      <td>A</td>\n",
       "      <td>A</td>\n",
       "    </tr>\n",
       "    <tr>\n",
       "      <th>2</th>\n",
       "      <td>210052589243</td>\n",
       "      <td>2021</td>\n",
       "      <td>13</td>\n",
       "      <td>F</td>\n",
       "      <td>3</td>\n",
       "      <td>1</td>\n",
       "      <td>1</td>\n",
       "      <td>1</td>\n",
       "      <td>15</td>\n",
       "      <td>1</td>\n",
       "      <td>...</td>\n",
       "      <td>B</td>\n",
       "      <td>A</td>\n",
       "      <td>A</td>\n",
       "      <td>B</td>\n",
       "      <td>A</td>\n",
       "      <td>A</td>\n",
       "      <td>C</td>\n",
       "      <td>B</td>\n",
       "      <td>B</td>\n",
       "      <td>B</td>\n",
       "    </tr>\n",
       "    <tr>\n",
       "      <th>3</th>\n",
       "      <td>210052128335</td>\n",
       "      <td>2021</td>\n",
       "      <td>3</td>\n",
       "      <td>M</td>\n",
       "      <td>1</td>\n",
       "      <td>3</td>\n",
       "      <td>1</td>\n",
       "      <td>2</td>\n",
       "      <td>0</td>\n",
       "      <td>2</td>\n",
       "      <td>...</td>\n",
       "      <td>A</td>\n",
       "      <td>A</td>\n",
       "      <td>A</td>\n",
       "      <td>B</td>\n",
       "      <td>A</td>\n",
       "      <td>A</td>\n",
       "      <td>B</td>\n",
       "      <td>A</td>\n",
       "      <td>B</td>\n",
       "      <td>B</td>\n",
       "    </tr>\n",
       "    <tr>\n",
       "      <th>4</th>\n",
       "      <td>210051353021</td>\n",
       "      <td>2021</td>\n",
       "      <td>2</td>\n",
       "      <td>F</td>\n",
       "      <td>1</td>\n",
       "      <td>3</td>\n",
       "      <td>1</td>\n",
       "      <td>2</td>\n",
       "      <td>0</td>\n",
       "      <td>2</td>\n",
       "      <td>...</td>\n",
       "      <td>B</td>\n",
       "      <td>A</td>\n",
       "      <td>A</td>\n",
       "      <td>B</td>\n",
       "      <td>A</td>\n",
       "      <td>B</td>\n",
       "      <td>E</td>\n",
       "      <td>A</td>\n",
       "      <td>B</td>\n",
       "      <td>B</td>\n",
       "    </tr>\n",
       "  </tbody>\n",
       "</table>\n",
       "<p>5 rows × 76 columns</p>\n",
       "</div>"
      ],
      "text/plain": [
       "   NU_INSCRICAO  NU_ANO  TP_FAIXA_ETARIA TP_SEXO  TP_ESTADO_CIVIL  \\\n",
       "0  210053865474    2021                5       F                1   \n",
       "1  210052384164    2021               12       M                1   \n",
       "2  210052589243    2021               13       F                3   \n",
       "3  210052128335    2021                3       M                1   \n",
       "4  210051353021    2021                2       F                1   \n",
       "\n",
       "   TP_COR_RACA  TP_NACIONALIDADE  TP_ST_CONCLUSAO  TP_ANO_CONCLUIU  TP_ESCOLA  \\\n",
       "0            1                 1                1                3          1   \n",
       "1            1                 1                1               11          1   \n",
       "2            1                 1                1               15          1   \n",
       "3            3                 1                2                0          2   \n",
       "4            3                 1                2                0          2   \n",
       "\n",
       "   ...  Q016  Q017  Q018 Q019  Q020 Q021  Q022  Q023  Q024  Q025  \n",
       "0  ...     A     A     A    B     A    A     B     A     B     B  \n",
       "1  ...     A     A     A    B     A    A     C     A     A     A  \n",
       "2  ...     B     A     A    B     A    A     C     B     B     B  \n",
       "3  ...     A     A     A    B     A    A     B     A     B     B  \n",
       "4  ...     B     A     A    B     A    B     E     A     B     B  \n",
       "\n",
       "[5 rows x 76 columns]"
      ]
     },
     "execution_count": 3,
     "metadata": {},
     "output_type": "execute_result"
    }
   ],
   "source": []
  },
  {
   "cell_type": "code",
   "execution_count": 3,
   "id": "a6b8227c-7ddd-405c-9bd2-0a285065c517",
   "metadata": {},
   "outputs": [
    {
     "name": "stdout",
     "output_type": "stream",
     "text": [
      "DATASET SHAPE:  (3389832, 76) \n",
      "\n",
      "--------------------------------------------------\n",
      "FEATURE DATA TYPES:\n",
      "<class 'pandas.core.frame.DataFrame'>\n",
      "RangeIndex: 3389832 entries, 0 to 3389831\n",
      "Data columns (total 76 columns):\n",
      " #   Column                  Dtype  \n",
      "---  ------                  -----  \n",
      " 0   NU_INSCRICAO            int64  \n",
      " 1   NU_ANO                  int64  \n",
      " 2   TP_FAIXA_ETARIA         int64  \n",
      " 3   TP_SEXO                 object \n",
      " 4   TP_ESTADO_CIVIL         int64  \n",
      " 5   TP_COR_RACA             int64  \n",
      " 6   TP_NACIONALIDADE        int64  \n",
      " 7   TP_ST_CONCLUSAO         int64  \n",
      " 8   TP_ANO_CONCLUIU         int64  \n",
      " 9   TP_ESCOLA               int64  \n",
      " 10  TP_ENSINO               float64\n",
      " 11  IN_TREINEIRO            int64  \n",
      " 12  CO_MUNICIPIO_ESC        float64\n",
      " 13  NO_MUNICIPIO_ESC        object \n",
      " 14  CO_UF_ESC               float64\n",
      " 15  SG_UF_ESC               object \n",
      " 16  TP_DEPENDENCIA_ADM_ESC  float64\n",
      " 17  TP_LOCALIZACAO_ESC      float64\n",
      " 18  TP_SIT_FUNC_ESC         float64\n",
      " 19  CO_MUNICIPIO_PROVA      int64  \n",
      " 20  NO_MUNICIPIO_PROVA      object \n",
      " 21  CO_UF_PROVA             int64  \n",
      " 22  SG_UF_PROVA             object \n",
      " 23  TP_PRESENCA_CN          int64  \n",
      " 24  TP_PRESENCA_CH          int64  \n",
      " 25  TP_PRESENCA_LC          int64  \n",
      " 26  TP_PRESENCA_MT          int64  \n",
      " 27  CO_PROVA_CN             float64\n",
      " 28  CO_PROVA_CH             float64\n",
      " 29  CO_PROVA_LC             float64\n",
      " 30  CO_PROVA_MT             float64\n",
      " 31  NU_NOTA_CN              float64\n",
      " 32  NU_NOTA_CH              float64\n",
      " 33  NU_NOTA_LC              float64\n",
      " 34  NU_NOTA_MT              float64\n",
      " 35  TX_RESPOSTAS_CN         object \n",
      " 36  TX_RESPOSTAS_CH         object \n",
      " 37  TX_RESPOSTAS_LC         object \n",
      " 38  TX_RESPOSTAS_MT         object \n",
      " 39  TP_LINGUA               int64  \n",
      " 40  TX_GABARITO_CN          object \n",
      " 41  TX_GABARITO_CH          object \n",
      " 42  TX_GABARITO_LC          object \n",
      " 43  TX_GABARITO_MT          object \n",
      " 44  TP_STATUS_REDACAO       float64\n",
      " 45  NU_NOTA_COMP1           float64\n",
      " 46  NU_NOTA_COMP2           float64\n",
      " 47  NU_NOTA_COMP3           float64\n",
      " 48  NU_NOTA_COMP4           float64\n",
      " 49  NU_NOTA_COMP5           float64\n",
      " 50  NU_NOTA_REDACAO         float64\n",
      " 51  Q001                    object \n",
      " 52  Q002                    object \n",
      " 53  Q003                    object \n",
      " 54  Q004                    object \n",
      " 55  Q005                    float64\n",
      " 56  Q006                    object \n",
      " 57  Q007                    object \n",
      " 58  Q008                    object \n",
      " 59  Q009                    object \n",
      " 60  Q010                    object \n",
      " 61  Q011                    object \n",
      " 62  Q012                    object \n",
      " 63  Q013                    object \n",
      " 64  Q014                    object \n",
      " 65  Q015                    object \n",
      " 66  Q016                    object \n",
      " 67  Q017                    object \n",
      " 68  Q018                    object \n",
      " 69  Q019                    object \n",
      " 70  Q020                    object \n",
      " 71  Q021                    object \n",
      " 72  Q022                    object \n",
      " 73  Q023                    object \n",
      " 74  Q024                    object \n",
      " 75  Q025                    object \n",
      "dtypes: float64(22), int64(17), object(37)\n",
      "memory usage: 1.9+ GB\n",
      "None\n",
      "\n",
      " --------------------------------------------------\n",
      "NUMBER OF UNIQUE VALUES PER FEATURE: \n",
      "\n",
      "NU_INSCRICAO       3389832\n",
      "NU_ANO                   1\n",
      "TP_FAIXA_ETARIA         20\n",
      "TP_SEXO                  2\n",
      "TP_ESTADO_CIVIL          5\n",
      "                    ...   \n",
      "Q021                     2\n",
      "Q022                     5\n",
      "Q023                     2\n",
      "Q024                     5\n",
      "Q025                     2\n",
      "Length: 76, dtype: int64\n",
      "\n",
      " --------------------------------------------------\n",
      "NULL VALUES PER FEATURE\n",
      "NU_INSCRICAO       0\n",
      "NU_ANO             0\n",
      "TP_FAIXA_ETARIA    0\n",
      "TP_SEXO            0\n",
      "TP_ESTADO_CIVIL    0\n",
      "                  ..\n",
      "Q021               2\n",
      "Q022               2\n",
      "Q023               2\n",
      "Q024               2\n",
      "Q025               2\n",
      "Length: 76, dtype: int64\n"
     ]
    }
   ],
   "source": [
    "def show_info(data):\n",
    "    print('DATASET SHAPE: ', data.shape, '\\n')\n",
    "    print('-'*50)\n",
    "    print('FEATURE DATA TYPES:')\n",
    "    print(data.info())\n",
    "    print('\\n', '-'*50)\n",
    "    print('NUMBER OF UNIQUE VALUES PER FEATURE:', '\\n')\n",
    "    print(data.nunique())\n",
    "    print('\\n', '-'*50)\n",
    "    print('NULL VALUES PER FEATURE')\n",
    "    print(data.isnull().sum())\n",
    "    \n",
    "show_info(df)"
   ]
  },
  {
   "cell_type": "code",
   "execution_count": 4,
   "id": "4fa219bd-1b7a-4c49-8cd8-2974a090a10c",
   "metadata": {},
   "outputs": [
    {
     "data": {
      "text/plain": [
       "3389832"
      ]
     },
     "execution_count": 4,
     "metadata": {},
     "output_type": "execute_result"
    }
   ],
   "source": [
    "df['NU_INSCRICAO'].count()"
   ]
  },
  {
   "cell_type": "code",
   "execution_count": 5,
   "id": "b450403f-39f7-48fc-bec5-0a1c7ce83381",
   "metadata": {},
   "outputs": [
    {
     "data": {
      "text/plain": [
       "3     0.206313\n",
       "2     0.183131\n",
       "4     0.116433\n",
       "1     0.080924\n",
       "5     0.073954\n",
       "11    0.067134\n",
       "6     0.052240\n",
       "7     0.038955\n",
       "12    0.038570\n",
       "8     0.029671\n",
       "13    0.027457\n",
       "9     0.025294\n",
       "10    0.021004\n",
       "14    0.017332\n",
       "15    0.010563\n",
       "16    0.006066\n",
       "17    0.003187\n",
       "18    0.001210\n",
       "19    0.000396\n",
       "20    0.000165\n",
       "Name: TP_FAIXA_ETARIA, dtype: float64"
      ]
     },
     "execution_count": 5,
     "metadata": {},
     "output_type": "execute_result"
    }
   ],
   "source": [
    "df['TP_FAIXA_ETARIA'].value_counts(normalize=True)"
   ]
  },
  {
   "cell_type": "code",
   "execution_count": 6,
   "id": "5f3cdc3a-de6c-4c75-9bc1-17f940d77477",
   "metadata": {},
   "outputs": [
    {
     "data": {
      "image/png": "[encoded data removed]",
      "text/plain": [
       "<Figure size 432x288 with 1 Axes>"
      ]
     },
     "metadata": {
      "needs_background": "light"
     },
     "output_type": "display_data"
    }
   ],
   "source": [
    "fig, ax = plt.subplots()\n",
    "df['TP_FAIXA_ETARIA'].hist(ax=ax, bins=20, grid=False)\n",
    "ax.set_title('Histograma da Faixa Etária dos Participantes')\n",
    "plt.show()"
   ]
  },
  {
   "cell_type": "markdown",
   "id": "86ea0bcd-e0d9-4c47-a7f1-eacbce0f6a92",
   "metadata": {},
   "source": [
    "Reduzir em 3 faixas etárias: Menor que 17 anos, Entre 17 e 19 anos e Maior que 19 anos"
   ]
  },
  {
   "cell_type": "code",
   "execution_count": 7,
   "id": "0e865fa9-07a5-4cc2-bcb0-bb4f5a36b1d2",
   "metadata": {},
   "outputs": [],
   "source": [
    "def agrupar_faixa_etaria(valor):\n",
    "    if valor == 1:\n",
    "        return 'Menor que 17 anos'\n",
    "    elif valor == 2 or valor == 3 or valor == 4:\n",
    "        return 'Entre 17 e 19 anos'\n",
    "    else:\n",
    "        return 'Maior que 19 anos'"
   ]
  },
  {
   "cell_type": "code",
   "execution_count": 8,
   "id": "62f94fbe-00ac-4a2b-8c71-ff449e91be85",
   "metadata": {},
   "outputs": [],
   "source": [
    "df['TP_FAIXA_ETARIA_REDUZIDA'] = df['TP_FAIXA_ETARIA'].apply(agrupar_faixa_etaria)"
   ]
  },
  {
   "cell_type": "code",
   "execution_count": 9,
   "id": "12ba0d90-c7ce-4e99-826a-624a2f958fc0",
   "metadata": {},
   "outputs": [
    {
     "data": {
      "image/png": "[encoded data removed]",
      "text/plain": [
       "<Figure size 432x288 with 1 Axes>"
      ]
     },
     "metadata": {},
     "output_type": "display_data"
    }
   ],
   "source": [
    "fig, ax = plt.subplots()\n",
    "df['TP_FAIXA_ETARIA_REDUZIDA'].value_counts(normalize=True).plot(kind = 'pie', ax=ax, ylabel='')\n",
    "ax.set_title('Diagrama da Faixa Etária dos Participantes')\n",
    "plt.show()"
   ]
  },
  {
   "cell_type": "code",
   "execution_count": 10,
   "id": "893f4053-880c-411f-85ab-c9b8ce44c8b2",
   "metadata": {},
   "outputs": [
    {
     "data": {
      "text/plain": [
       "F    0.616705\n",
       "M    0.383295\n",
       "Name: TP_SEXO, dtype: float64"
      ]
     },
     "execution_count": 10,
     "metadata": {},
     "output_type": "execute_result"
    }
   ],
   "source": [
    "df['TP_SEXO'].value_counts(normalize=True)"
   ]
  },
  {
   "cell_type": "code",
   "execution_count": 11,
   "id": "c3f63652-a41e-456d-8c6e-312715c416f4",
   "metadata": {},
   "outputs": [
    {
     "data": {
      "text/plain": [
       "Solteiro(a)                                0.883795\n",
       "Casado(a)/Mora com companheiro(a)          0.057904\n",
       "Não informado                              0.041191\n",
       "Divorciado(a)/Desquitado(a)/Separado(a)    0.015972\n",
       "Viúvo(a)                                   0.001139\n",
       "Name: TP_ESTADO_CIVIL, dtype: float64"
      ]
     },
     "execution_count": 11,
     "metadata": {},
     "output_type": "execute_result"
    }
   ],
   "source": [
    "es = ['Solteiro(a)', 'Casado(a)/Mora com companheiro(a)', 'Não informado', 'Divorciado(a)/Desquitado(a)/Separado(a)', 'Viúvo(a)']\n",
    "estado_civil = df['TP_ESTADO_CIVIL'].value_counts(normalize=True)\n",
    "estado_civil.index = es\n",
    "estado_civil"
   ]
  },
  {
   "cell_type": "code",
   "execution_count": 12,
   "id": "513ad374-f2b8-47c0-bcdc-57ff476854d7",
   "metadata": {},
   "outputs": [
    {
     "data": {
      "text/plain": [
       "1    0.527865\n",
       "2    0.339503\n",
       "3    0.128971\n",
       "4    0.003662\n",
       "Name: TP_ST_CONCLUSAO, dtype: float64"
      ]
     },
     "execution_count": 12,
     "metadata": {},
     "output_type": "execute_result"
    }
   ],
   "source": [
    "df['TP_ST_CONCLUSAO'].value_counts(normalize=True)"
   ]
  },
  {
   "cell_type": "code",
   "execution_count": 13,
   "id": "f83359d3-1317-483f-9b1e-b25a5b7ad5c5",
   "metadata": {},
   "outputs": [
    {
     "data": {
      "text/plain": [
       "3    0.429949\n",
       "1    0.401865\n",
       "2    0.121334\n",
       "0    0.020989\n",
       "4    0.020205\n",
       "5    0.005657\n",
       "6    0.000001\n",
       "Name: TP_COR_RACA, dtype: float64"
      ]
     },
     "execution_count": 13,
     "metadata": {},
     "output_type": "execute_result"
    }
   ],
   "source": [
    "df['TP_COR_RACA'].value_counts(normalize=True)"
   ]
  },
  {
   "cell_type": "code",
   "execution_count": 14,
   "id": "6ab268c8-06ae-40bd-88f3-8038ee36c401",
   "metadata": {},
   "outputs": [
    {
     "data": {
      "text/plain": [
       "SP    0.171384\n",
       "CE    0.114473\n",
       "MG    0.078933\n",
       "RJ    0.067140\n",
       "BA    0.059031\n",
       "GO    0.055250\n",
       "PR    0.052058\n",
       "PE    0.049431\n",
       "RS    0.043995\n",
       "AM    0.041034\n",
       "PA    0.033090\n",
       "SC    0.032433\n",
       "MA    0.025977\n",
       "ES    0.021697\n",
       "PB    0.021685\n",
       "DF    0.020783\n",
       "PI    0.016627\n",
       "RN    0.015899\n",
       "MT    0.015609\n",
       "AL    0.013131\n",
       "MS    0.013114\n",
       "SE    0.010420\n",
       "RO    0.009460\n",
       "TO    0.007938\n",
       "AC    0.003696\n",
       "AP    0.003518\n",
       "RR    0.002195\n",
       "Name: SG_UF_ESC, dtype: float64"
      ]
     },
     "execution_count": 14,
     "metadata": {},
     "output_type": "execute_result"
    }
   ],
   "source": [
    "df['SG_UF_ESC'].value_counts(normalize=True)"
   ]
  },
  {
   "cell_type": "code",
   "execution_count": 16,
   "id": "b2af6e8d-77e9-4afc-9d87-d9f723804b8e",
   "metadata": {},
   "outputs": [
    {
     "data": {
      "image/png": "[encoded data removed]",
      "text/plain": [
       "<Figure size 1200x500 with 1 Axes>"
      ]
     },
     "metadata": {},
     "output_type": "display_data"
    }
   ],
   "source": [
    "fig,ax = plt.subplots(figsize=(12,5))\n",
    "\n",
    "df['SG_UF_ESC'].value_counts().plot(kind='bar', ax=ax, grid=False)\n",
    "\n",
    "ax.set_title('Histograma das Escolas por Estado')\n",
    "plt.show()"
   ]
  },
  {
   "cell_type": "code",
   "execution_count": 15,
   "id": "36ad98b9-dbd9-4697-a30d-1d7a585309c4",
   "metadata": {},
   "outputs": [
    {
     "data": {
      "text/plain": [
       "2.0    0.674605\n",
       "4.0    0.258987\n",
       "1.0    0.057494\n",
       "3.0    0.008914\n",
       "Name: TP_DEPENDENCIA_ADM_ESC, dtype: float64"
      ]
     },
     "execution_count": 15,
     "metadata": {},
     "output_type": "execute_result"
    }
   ],
   "source": [
    "df['TP_DEPENDENCIA_ADM_ESC'].value_counts(normalize=True)"
   ]
  },
  {
   "cell_type": "code",
   "execution_count": 16,
   "id": "52dc3c03-e1bc-4f48-817f-22bf38e9bd4d",
   "metadata": {},
   "outputs": [
    {
     "data": {
      "text/plain": [
       "1.0    0.965133\n",
       "2.0    0.034867\n",
       "Name: TP_LOCALIZACAO_ESC, dtype: float64"
      ]
     },
     "execution_count": 16,
     "metadata": {},
     "output_type": "execute_result"
    }
   ],
   "source": [
    "df['TP_LOCALIZACAO_ESC'].value_counts(normalize=True)"
   ]
  },
  {
   "cell_type": "code",
   "execution_count": 17,
   "id": "15ba8f70-57a4-4568-9bc8-d5cc57373162",
   "metadata": {},
   "outputs": [
    {
     "data": {
      "text/plain": [
       "1.0    0.992637\n",
       "4.0    0.003652\n",
       "2.0    0.002845\n",
       "3.0    0.000866\n",
       "Name: TP_SIT_FUNC_ESC, dtype: float64"
      ]
     },
     "execution_count": 17,
     "metadata": {},
     "output_type": "execute_result"
    }
   ],
   "source": [
    "df['TP_SIT_FUNC_ESC'].value_counts(normalize=True)"
   ]
  },
  {
   "cell_type": "code",
   "execution_count": 18,
   "id": "ab51e864-9afe-427b-a28b-7dedf120fd6a",
   "metadata": {},
   "outputs": [
    {
     "data": {
      "text/plain": [
       "SP    0.150436\n",
       "MG    0.096710\n",
       "BA    0.078527\n",
       "RJ    0.070312\n",
       "CE    0.065052\n",
       "PE    0.057117\n",
       "PA    0.054863\n",
       "RS    0.044393\n",
       "PR    0.042563\n",
       "GO    0.040390\n",
       "MA    0.037732\n",
       "PB    0.030091\n",
       "AM    0.026484\n",
       "RN    0.023842\n",
       "SC    0.023826\n",
       "PI    0.023591\n",
       "DF    0.019913\n",
       "ES    0.018933\n",
       "AL    0.016692\n",
       "MT    0.016545\n",
       "SE    0.015870\n",
       "MS    0.012535\n",
       "RO    0.009676\n",
       "TO    0.009108\n",
       "AP    0.006423\n",
       "AC    0.005999\n",
       "RR    0.002377\n",
       "Name: SG_UF_PROVA, dtype: float64"
      ]
     },
     "execution_count": 18,
     "metadata": {},
     "output_type": "execute_result"
    }
   ],
   "source": [
    "df['SG_UF_PROVA'].value_counts(normalize=True)"
   ]
  },
  {
   "cell_type": "code",
   "execution_count": 19,
   "id": "51374790-8014-4189-aea3-692351408421",
   "metadata": {},
   "outputs": [
    {
     "data": {
      "text/html": [
       "<div>\n",
       "<style scoped>\n",
       "    .dataframe tbody tr th:only-of-type {\n",
       "        vertical-align: middle;\n",
       "    }\n",
       "\n",
       "    .dataframe tbody tr th {\n",
       "        vertical-align: top;\n",
       "    }\n",
       "\n",
       "    .dataframe thead th {\n",
       "        text-align: right;\n",
       "    }\n",
       "</style>\n",
       "<table border=\"1\" class=\"dataframe\">\n",
       "  <thead>\n",
       "    <tr style=\"text-align: right;\">\n",
       "      <th></th>\n",
       "      <th>TP_PRESENCA_CN</th>\n",
       "      <th>TP_PRESENCA_CH</th>\n",
       "      <th>TP_PRESENCA_LC</th>\n",
       "      <th>TP_PRESENCA_MT</th>\n",
       "    </tr>\n",
       "  </thead>\n",
       "  <tbody>\n",
       "    <tr>\n",
       "      <th>0</th>\n",
       "      <td>0</td>\n",
       "      <td>1</td>\n",
       "      <td>1</td>\n",
       "      <td>0</td>\n",
       "    </tr>\n",
       "    <tr>\n",
       "      <th>1</th>\n",
       "      <td>1</td>\n",
       "      <td>1</td>\n",
       "      <td>1</td>\n",
       "      <td>1</td>\n",
       "    </tr>\n",
       "    <tr>\n",
       "      <th>2</th>\n",
       "      <td>0</td>\n",
       "      <td>0</td>\n",
       "      <td>0</td>\n",
       "      <td>0</td>\n",
       "    </tr>\n",
       "    <tr>\n",
       "      <th>3</th>\n",
       "      <td>1</td>\n",
       "      <td>1</td>\n",
       "      <td>1</td>\n",
       "      <td>1</td>\n",
       "    </tr>\n",
       "    <tr>\n",
       "      <th>4</th>\n",
       "      <td>1</td>\n",
       "      <td>1</td>\n",
       "      <td>1</td>\n",
       "      <td>1</td>\n",
       "    </tr>\n",
       "    <tr>\n",
       "      <th>...</th>\n",
       "      <td>...</td>\n",
       "      <td>...</td>\n",
       "      <td>...</td>\n",
       "      <td>...</td>\n",
       "    </tr>\n",
       "    <tr>\n",
       "      <th>3389827</th>\n",
       "      <td>0</td>\n",
       "      <td>0</td>\n",
       "      <td>0</td>\n",
       "      <td>0</td>\n",
       "    </tr>\n",
       "    <tr>\n",
       "      <th>3389828</th>\n",
       "      <td>0</td>\n",
       "      <td>0</td>\n",
       "      <td>0</td>\n",
       "      <td>0</td>\n",
       "    </tr>\n",
       "    <tr>\n",
       "      <th>3389829</th>\n",
       "      <td>0</td>\n",
       "      <td>0</td>\n",
       "      <td>0</td>\n",
       "      <td>0</td>\n",
       "    </tr>\n",
       "    <tr>\n",
       "      <th>3389830</th>\n",
       "      <td>1</td>\n",
       "      <td>1</td>\n",
       "      <td>1</td>\n",
       "      <td>1</td>\n",
       "    </tr>\n",
       "    <tr>\n",
       "      <th>3389831</th>\n",
       "      <td>0</td>\n",
       "      <td>0</td>\n",
       "      <td>0</td>\n",
       "      <td>0</td>\n",
       "    </tr>\n",
       "  </tbody>\n",
       "</table>\n",
       "<p>3389832 rows × 4 columns</p>\n",
       "</div>"
      ],
      "text/plain": [
       "         TP_PRESENCA_CN  TP_PRESENCA_CH  TP_PRESENCA_LC  TP_PRESENCA_MT\n",
       "0                     0               1               1               0\n",
       "1                     1               1               1               1\n",
       "2                     0               0               0               0\n",
       "3                     1               1               1               1\n",
       "4                     1               1               1               1\n",
       "...                 ...             ...             ...             ...\n",
       "3389827               0               0               0               0\n",
       "3389828               0               0               0               0\n",
       "3389829               0               0               0               0\n",
       "3389830               1               1               1               1\n",
       "3389831               0               0               0               0\n",
       "\n",
       "[3389832 rows x 4 columns]"
      ]
     },
     "execution_count": 19,
     "metadata": {},
     "output_type": "execute_result"
    }
   ],
   "source": [
    "df[['TP_PRESENCA_CN', 'TP_PRESENCA_CH', 'TP_PRESENCA_LC', 'TP_PRESENCA_MT']]"
   ]
  },
  {
   "cell_type": "code",
   "execution_count": 20,
   "id": "a713cada-3f27-4686-9310-2724158e73ba",
   "metadata": {},
   "outputs": [
    {
     "data": {
      "text/plain": [
       "TP_PRESENCA_CN    0.336621\n",
       "TP_PRESENCA_CH    0.295985\n",
       "TP_PRESENCA_LC    0.295985\n",
       "TP_PRESENCA_MT    0.336621\n",
       "dtype: float64"
      ]
     },
     "execution_count": 20,
     "metadata": {},
     "output_type": "execute_result"
    }
   ],
   "source": [
    "1-df[['TP_PRESENCA_CN', 'TP_PRESENCA_CH', 'TP_PRESENCA_LC', 'TP_PRESENCA_MT']].sum()/df.shape[0]"
   ]
  },
  {
   "cell_type": "code",
   "execution_count": 21,
   "id": "e1c45cce-727e-45b9-b172-e12281afbebb",
   "metadata": {},
   "outputs": [
    {
     "data": {
      "text/plain": [
       "0.6612902940322706"
      ]
     },
     "execution_count": 21,
     "metadata": {},
     "output_type": "execute_result"
    }
   ],
   "source": [
    "(df[['TP_PRESENCA_CN', 'TP_PRESENCA_CH', 'TP_PRESENCA_LC', 'TP_PRESENCA_MT']].sum(axis=1)==4).sum()/df.shape[0]"
   ]
  },
  {
   "cell_type": "code",
   "execution_count": 22,
   "id": "8aa13087-92bc-4735-8ca2-7828ae3fc09b",
   "metadata": {},
   "outputs": [],
   "source": [
    "nota = ['NU_NOTA_CN', 'NU_NOTA_CH', 'NU_NOTA_LC', 'NU_NOTA_MT']"
   ]
  },
  {
   "cell_type": "code",
   "execution_count": 23,
   "id": "6e41f9a1-1820-4166-a276-c0cd249a94d3",
   "metadata": {},
   "outputs": [
    {
     "data": {
      "text/html": [
       "<div>\n",
       "<style scoped>\n",
       "    .dataframe tbody tr th:only-of-type {\n",
       "        vertical-align: middle;\n",
       "    }\n",
       "\n",
       "    .dataframe tbody tr th {\n",
       "        vertical-align: top;\n",
       "    }\n",
       "\n",
       "    .dataframe thead th {\n",
       "        text-align: right;\n",
       "    }\n",
       "</style>\n",
       "<table border=\"1\" class=\"dataframe\">\n",
       "  <thead>\n",
       "    <tr style=\"text-align: right;\">\n",
       "      <th></th>\n",
       "      <th>count</th>\n",
       "      <th>mean</th>\n",
       "      <th>std</th>\n",
       "      <th>min</th>\n",
       "      <th>25%</th>\n",
       "      <th>50%</th>\n",
       "      <th>75%</th>\n",
       "      <th>max</th>\n",
       "    </tr>\n",
       "  </thead>\n",
       "  <tbody>\n",
       "    <tr>\n",
       "      <th>NU_NOTA_CN</th>\n",
       "      <td>2245844.0</td>\n",
       "      <td>491.79</td>\n",
       "      <td>80.57</td>\n",
       "      <td>0.0</td>\n",
       "      <td>431.0</td>\n",
       "      <td>482.0</td>\n",
       "      <td>545.8</td>\n",
       "      <td>867.1</td>\n",
       "    </tr>\n",
       "    <tr>\n",
       "      <th>NU_NOTA_CH</th>\n",
       "      <td>2378379.0</td>\n",
       "      <td>519.94</td>\n",
       "      <td>95.79</td>\n",
       "      <td>0.0</td>\n",
       "      <td>445.4</td>\n",
       "      <td>521.9</td>\n",
       "      <td>589.3</td>\n",
       "      <td>846.9</td>\n",
       "    </tr>\n",
       "    <tr>\n",
       "      <th>NU_NOTA_LC</th>\n",
       "      <td>2378379.0</td>\n",
       "      <td>502.56</td>\n",
       "      <td>79.16</td>\n",
       "      <td>0.0</td>\n",
       "      <td>447.6</td>\n",
       "      <td>505.9</td>\n",
       "      <td>558.8</td>\n",
       "      <td>826.1</td>\n",
       "    </tr>\n",
       "    <tr>\n",
       "      <th>NU_NOTA_MT</th>\n",
       "      <td>2245844.0</td>\n",
       "      <td>535.08</td>\n",
       "      <td>110.63</td>\n",
       "      <td>0.0</td>\n",
       "      <td>444.7</td>\n",
       "      <td>515.4</td>\n",
       "      <td>613.9</td>\n",
       "      <td>953.1</td>\n",
       "    </tr>\n",
       "  </tbody>\n",
       "</table>\n",
       "</div>"
      ],
      "text/plain": [
       "                count    mean     std  min    25%    50%    75%    max\n",
       "NU_NOTA_CN  2245844.0  491.79   80.57  0.0  431.0  482.0  545.8  867.1\n",
       "NU_NOTA_CH  2378379.0  519.94   95.79  0.0  445.4  521.9  589.3  846.9\n",
       "NU_NOTA_LC  2378379.0  502.56   79.16  0.0  447.6  505.9  558.8  826.1\n",
       "NU_NOTA_MT  2245844.0  535.08  110.63  0.0  444.7  515.4  613.9  953.1"
      ]
     },
     "execution_count": 23,
     "metadata": {},
     "output_type": "execute_result"
    }
   ],
   "source": [
    "df[nota].describe().round(2).T"
   ]
  },
  {
   "cell_type": "code",
   "execution_count": 24,
   "id": "087fd353-c34d-4103-8703-89bf1b56c6c9",
   "metadata": {},
   "outputs": [
    {
     "data": {
      "image/png": "[encoded data removed]",
      "text/plain": [
       "<Figure size 720x720 with 4 Axes>"
      ]
     },
     "metadata": {
      "needs_background": "light"
     },
     "output_type": "display_data"
    }
   ],
   "source": [
    "fig, axs = plt.subplots(2,2,figsize=(10,10))\n",
    "\n",
    "sns.histplot(df['NU_NOTA_CN'],bins=10, ax=axs[0,0], kde=True).set_title('Nota da prova de Ciências da Natureza')\n",
    "sns.histplot(df['NU_NOTA_CH'],bins=10, ax=axs[0,1], kde=True).set_title('Nota da prova de Ciências Humanas')\n",
    "sns.histplot(df['NU_NOTA_LC'],bins=10, ax=axs[1,0], kde=True).set_title('Nota da prova de Linguagens e Códigos')\n",
    "sns.histplot(df['NU_NOTA_MT'],bins=10, ax=axs[1,1], kde=True).set_title('Nota da prova de Matemática')\n",
    "\n",
    "axs[0,0].set_xlabel('')\n",
    "axs[0,1].set_xlabel('')\n",
    "axs[1,0].set_xlabel('')\n",
    "axs[1,1].set_xlabel('')\n",
    "\n",
    "axs[0,0].set_ylabel('')\n",
    "axs[0,1].set_ylabel('')\n",
    "axs[1,0].set_ylabel('')\n",
    "axs[1,1].set_ylabel('')\n",
    "\n",
    "fig.tight_layout()\n",
    "plt.show()"
   ]
  },
  {
   "cell_type": "code",
   "execution_count": 25,
   "id": "f1d6b186-1034-4663-a40c-b42a2acc7c86",
   "metadata": {},
   "outputs": [
    {
     "data": {
      "image/png": "[encoded data removed]",
      "text/plain": [
       "<Figure size 504x360 with 1 Axes>"
      ]
     },
     "metadata": {
      "needs_background": "light"
     },
     "output_type": "display_data"
    }
   ],
   "source": [
    "fig, ax =plt.subplots(figsize=(7,5))\n",
    "\n",
    "df[nota].rename(columns={\n",
    "    'NU_NOTA_CN': 'Nota CN',\n",
    "    'NU_NOTA_CH': 'Nota CH', \n",
    "    'NU_NOTA_LC': 'Nota LC', \n",
    "    'NU_NOTA_MT': 'Nota MT'\n",
    "}).plot(kind='box', ax=ax, showmeans=True)\n",
    "\n",
    "ax.set_title('Boxplot das Notas')\n",
    "\n",
    "fig.tight_layout()\n",
    "plt.show()"
   ]
  },
  {
   "cell_type": "code",
   "execution_count": 26,
   "id": "fd1005f3-f433-4874-8558-248004da5882",
   "metadata": {},
   "outputs": [
    {
     "data": {
      "text/plain": [
       "0    0.529536\n",
       "1    0.470464\n",
       "Name: TP_LINGUA, dtype: float64"
      ]
     },
     "execution_count": 26,
     "metadata": {},
     "output_type": "execute_result"
    }
   ],
   "source": [
    "df['TP_LINGUA'].value_counts(normalize=True)"
   ]
  },
  {
   "cell_type": "code",
   "execution_count": 27,
   "id": "05bce5c5-96c6-4e5c-8568-8c428bcf314f",
   "metadata": {},
   "outputs": [
    {
     "data": {
      "text/plain": [
       "1.0    0.964437\n",
       "4.0    0.016927\n",
       "6.0    0.010418\n",
       "3.0    0.002777\n",
       "8.0    0.002349\n",
       "7.0    0.001102\n",
       "9.0    0.001031\n",
       "2.0    0.000960\n",
       "Name: TP_STATUS_REDACAO, dtype: float64"
      ]
     },
     "execution_count": 27,
     "metadata": {},
     "output_type": "execute_result"
    }
   ],
   "source": [
    "df['TP_STATUS_REDACAO'].value_counts(normalize=True)"
   ]
  },
  {
   "cell_type": "code",
   "execution_count": 28,
   "id": "b635c743-7ad0-443c-8c6a-8ceec0200fd0",
   "metadata": {},
   "outputs": [
    {
     "data": {
      "text/plain": [
       "count    2378379.00\n",
       "mean         613.50\n",
       "std          190.71\n",
       "min            0.00\n",
       "25%          520.00\n",
       "50%          600.00\n",
       "75%          740.00\n",
       "max         1000.00\n",
       "Name: NU_NOTA_REDACAO, dtype: float64"
      ]
     },
     "execution_count": 28,
     "metadata": {},
     "output_type": "execute_result"
    }
   ],
   "source": [
    "df['NU_NOTA_REDACAO'].describe().round(2)"
   ]
  },
  {
   "cell_type": "code",
   "execution_count": 29,
   "id": "2f5f96f9-6f21-43be-843b-8d3321a3aaea",
   "metadata": {},
   "outputs": [
    {
     "data": {
      "image/png": "[encoded data removed]",
      "text/plain": [
       "<Figure size 504x360 with 1 Axes>"
      ]
     },
     "metadata": {
      "needs_background": "light"
     },
     "output_type": "display_data"
    }
   ],
   "source": [
    "fig,ax = plt.subplots(figsize=(7,5))\n",
    "\n",
    "df['NU_NOTA_REDACAO'].hist(ax=ax, grid=False, bins=20)\n",
    "\n",
    "ax.set_title('Histograma das Notas de Redação')\n",
    "plt.show()"
   ]
  },
  {
   "cell_type": "code",
   "execution_count": 32,
   "id": "338372e9-c22f-4942-9afa-0f754c56a42f",
   "metadata": {},
   "outputs": [
    {
     "data": {
      "text/plain": [
       "560.0     0.064521\n",
       "600.0     0.064477\n",
       "580.0     0.060013\n",
       "620.0     0.049954\n",
       "540.0     0.049024\n",
       "640.0     0.048758\n",
       "520.0     0.046614\n",
       "680.0     0.037115\n",
       "0.0       0.035563\n",
       "660.0     0.035493\n",
       "480.0     0.034877\n",
       "500.0     0.032862\n",
       "720.0     0.030929\n",
       "700.0     0.028175\n",
       "760.0     0.027171\n",
       "460.0     0.025895\n",
       "800.0     0.025430\n",
       "880.0     0.025416\n",
       "840.0     0.025167\n",
       "440.0     0.024512\n",
       "740.0     0.024025\n",
       "900.0     0.022103\n",
       "920.0     0.022074\n",
       "780.0     0.021508\n",
       "860.0     0.021053\n",
       "820.0     0.020884\n",
       "400.0     0.015625\n",
       "420.0     0.015595\n",
       "940.0     0.014763\n",
       "360.0     0.011103\n",
       "380.0     0.010293\n",
       "960.0     0.007681\n",
       "340.0     0.006100\n",
       "320.0     0.005187\n",
       "300.0     0.002720\n",
       "280.0     0.002272\n",
       "980.0     0.002226\n",
       "260.0     0.001128\n",
       "240.0     0.000810\n",
       "220.0     0.000275\n",
       "200.0     0.000226\n",
       "180.0     0.000082\n",
       "160.0     0.000079\n",
       "80.0      0.000047\n",
       "40.0      0.000046\n",
       "120.0     0.000037\n",
       "140.0     0.000035\n",
       "60.0      0.000032\n",
       "100.0     0.000015\n",
       "1000.0    0.000009\n",
       "Name: NU_NOTA_REDACAO, dtype: float64"
      ]
     },
     "execution_count": 32,
     "metadata": {},
     "output_type": "execute_result"
    }
   ],
   "source": [
    "df['NU_NOTA_REDACAO'].value_counts(normalize=True)"
   ]
  },
  {
   "cell_type": "markdown",
   "id": "70b39e4e-743d-4130-8165-13cc5d233afc",
   "metadata": {},
   "source": [
    "## Análise Exploratória\n",
    "---\n",
    "\n",
    "- Analisando o questionamento cultural sobre mulher ser melhor em redação e homem melhor em matemática.\n",
    "\n",
    "- Quando comparado nota mínima e máxima nos 2 temas (redação e matemática) são iguais, o que também confirma pelo boxplot e histograma que as curvas de notas tanto em redação como matemática são bem parecidas independente do sexo informado na inscrição. Sendo por tanto fazer uma afirmação desse tipo uma questão preconceituosa e sexista."
   ]
  },
  {
   "cell_type": "code",
   "execution_count": 33,
   "id": "8d46703a-804f-4ec7-8000-e6857656d36e",
   "metadata": {},
   "outputs": [
    {
     "data": {
      "text/html": [
       "<div>\n",
       "<style scoped>\n",
       "    .dataframe tbody tr th:only-of-type {\n",
       "        vertical-align: middle;\n",
       "    }\n",
       "\n",
       "    .dataframe tbody tr th {\n",
       "        vertical-align: top;\n",
       "    }\n",
       "\n",
       "    .dataframe thead th {\n",
       "        text-align: right;\n",
       "    }\n",
       "</style>\n",
       "<table border=\"1\" class=\"dataframe\">\n",
       "  <thead>\n",
       "    <tr style=\"text-align: right;\">\n",
       "      <th></th>\n",
       "      <th>TP_SEXO</th>\n",
       "      <th>NU_NOTA_REDACAO</th>\n",
       "    </tr>\n",
       "  </thead>\n",
       "  <tbody>\n",
       "    <tr>\n",
       "      <th>0</th>\n",
       "      <td>F</td>\n",
       "      <td>760.0</td>\n",
       "    </tr>\n",
       "    <tr>\n",
       "      <th>1</th>\n",
       "      <td>M</td>\n",
       "      <td>560.0</td>\n",
       "    </tr>\n",
       "    <tr>\n",
       "      <th>2</th>\n",
       "      <td>F</td>\n",
       "      <td>NaN</td>\n",
       "    </tr>\n",
       "    <tr>\n",
       "      <th>3</th>\n",
       "      <td>M</td>\n",
       "      <td>780.0</td>\n",
       "    </tr>\n",
       "    <tr>\n",
       "      <th>4</th>\n",
       "      <td>F</td>\n",
       "      <td>780.0</td>\n",
       "    </tr>\n",
       "  </tbody>\n",
       "</table>\n",
       "</div>"
      ],
      "text/plain": [
       "  TP_SEXO  NU_NOTA_REDACAO\n",
       "0       F            760.0\n",
       "1       M            560.0\n",
       "2       F              NaN\n",
       "3       M            780.0\n",
       "4       F            780.0"
      ]
     },
     "execution_count": 33,
     "metadata": {},
     "output_type": "execute_result"
    }
   ],
   "source": [
    "df[['TP_SEXO', 'NU_NOTA_REDACAO']].head()"
   ]
  },
  {
   "cell_type": "code",
   "execution_count": 34,
   "id": "4175f318-47ea-4259-8188-ac9347b2667c",
   "metadata": {},
   "outputs": [
    {
     "data": {
      "text/html": [
       "<div>\n",
       "<style scoped>\n",
       "    .dataframe tbody tr th:only-of-type {\n",
       "        vertical-align: middle;\n",
       "    }\n",
       "\n",
       "    .dataframe tbody tr th {\n",
       "        vertical-align: top;\n",
       "    }\n",
       "\n",
       "    .dataframe thead th {\n",
       "        text-align: right;\n",
       "    }\n",
       "</style>\n",
       "<table border=\"1\" class=\"dataframe\">\n",
       "  <thead>\n",
       "    <tr style=\"text-align: right;\">\n",
       "      <th></th>\n",
       "      <th>TP_SEXO</th>\n",
       "      <th>NU_NOTA_REDACAO</th>\n",
       "    </tr>\n",
       "  </thead>\n",
       "  <tbody>\n",
       "    <tr>\n",
       "      <th>0</th>\n",
       "      <td>F</td>\n",
       "      <td>760.0</td>\n",
       "    </tr>\n",
       "    <tr>\n",
       "      <th>1</th>\n",
       "      <td>M</td>\n",
       "      <td>560.0</td>\n",
       "    </tr>\n",
       "    <tr>\n",
       "      <th>3</th>\n",
       "      <td>M</td>\n",
       "      <td>780.0</td>\n",
       "    </tr>\n",
       "    <tr>\n",
       "      <th>4</th>\n",
       "      <td>F</td>\n",
       "      <td>780.0</td>\n",
       "    </tr>\n",
       "    <tr>\n",
       "      <th>6</th>\n",
       "      <td>F</td>\n",
       "      <td>480.0</td>\n",
       "    </tr>\n",
       "  </tbody>\n",
       "</table>\n",
       "</div>"
      ],
      "text/plain": [
       "  TP_SEXO  NU_NOTA_REDACAO\n",
       "0       F            760.0\n",
       "1       M            560.0\n",
       "3       M            780.0\n",
       "4       F            780.0\n",
       "6       F            480.0"
      ]
     },
     "execution_count": 34,
     "metadata": {},
     "output_type": "execute_result"
    }
   ],
   "source": [
    "df[['TP_SEXO', 'NU_NOTA_REDACAO']].dropna().head()"
   ]
  },
  {
   "cell_type": "code",
   "execution_count": 35,
   "id": "69a17f78-4a58-4a50-a1e2-8f072246975b",
   "metadata": {},
   "outputs": [
    {
     "data": {
      "text/html": [
       "<div>\n",
       "<style scoped>\n",
       "    .dataframe tbody tr th:only-of-type {\n",
       "        vertical-align: middle;\n",
       "    }\n",
       "\n",
       "    .dataframe tbody tr th {\n",
       "        vertical-align: top;\n",
       "    }\n",
       "\n",
       "    .dataframe thead tr th {\n",
       "        text-align: left;\n",
       "    }\n",
       "\n",
       "    .dataframe thead tr:last-of-type th {\n",
       "        text-align: right;\n",
       "    }\n",
       "</style>\n",
       "<table border=\"1\" class=\"dataframe\">\n",
       "  <thead>\n",
       "    <tr>\n",
       "      <th></th>\n",
       "      <th colspan=\"8\" halign=\"left\">NU_NOTA_REDACAO</th>\n",
       "    </tr>\n",
       "    <tr>\n",
       "      <th></th>\n",
       "      <th>count</th>\n",
       "      <th>mean</th>\n",
       "      <th>std</th>\n",
       "      <th>min</th>\n",
       "      <th>25%</th>\n",
       "      <th>50%</th>\n",
       "      <th>75%</th>\n",
       "      <th>max</th>\n",
       "    </tr>\n",
       "    <tr>\n",
       "      <th>TP_SEXO</th>\n",
       "      <th></th>\n",
       "      <th></th>\n",
       "      <th></th>\n",
       "      <th></th>\n",
       "      <th></th>\n",
       "      <th></th>\n",
       "      <th></th>\n",
       "      <th></th>\n",
       "    </tr>\n",
       "  </thead>\n",
       "  <tbody>\n",
       "    <tr>\n",
       "      <th>F</th>\n",
       "      <td>1470366.0</td>\n",
       "      <td>624.35</td>\n",
       "      <td>189.05</td>\n",
       "      <td>0.0</td>\n",
       "      <td>520.0</td>\n",
       "      <td>620.0</td>\n",
       "      <td>760.0</td>\n",
       "      <td>1000.0</td>\n",
       "    </tr>\n",
       "    <tr>\n",
       "      <th>M</th>\n",
       "      <td>908013.0</td>\n",
       "      <td>595.93</td>\n",
       "      <td>192.08</td>\n",
       "      <td>0.0</td>\n",
       "      <td>520.0</td>\n",
       "      <td>600.0</td>\n",
       "      <td>720.0</td>\n",
       "      <td>1000.0</td>\n",
       "    </tr>\n",
       "  </tbody>\n",
       "</table>\n",
       "</div>"
      ],
      "text/plain": [
       "        NU_NOTA_REDACAO                                                  \n",
       "                  count    mean     std  min    25%    50%    75%     max\n",
       "TP_SEXO                                                                  \n",
       "F             1470366.0  624.35  189.05  0.0  520.0  620.0  760.0  1000.0\n",
       "M              908013.0  595.93  192.08  0.0  520.0  600.0  720.0  1000.0"
      ]
     },
     "execution_count": 35,
     "metadata": {},
     "output_type": "execute_result"
    }
   ],
   "source": [
    "df[['TP_SEXO', 'NU_NOTA_REDACAO']].groupby('TP_SEXO').describe().round(2)"
   ]
  },
  {
   "cell_type": "code",
   "execution_count": 36,
   "id": "c930e78e-9496-49d7-b093-1cadaee15a34",
   "metadata": {},
   "outputs": [
    {
     "data": {
      "image/png": "[encoded data removed]",
      "text/plain": [
       "<Figure size 700x500 with 1 Axes>"
      ]
     },
     "metadata": {},
     "output_type": "display_data"
    }
   ],
   "source": [
    "fig,ax = plt.subplots(figsize=(7,5))\n",
    "\n",
    "sns.boxplot(data=df, x='TP_SEXO', y='NU_NOTA_REDACAO')\n",
    "\n",
    "ax.set_xlabel('')\n",
    "ax.set_ylabel('')\n",
    "\n",
    "ax.set_title('Boxplot das Notas de Redação por Sexo')\n",
    "plt.show()"
   ]
  },
  {
   "cell_type": "code",
   "execution_count": 37,
   "id": "8bbc6358-7656-44aa-8f7d-0e46b99cbaff",
   "metadata": {},
   "outputs": [
    {
     "data": {
      "image/png": "[encoded data removed]",
      "text/plain": [
       "<Figure size 1400x500 with 2 Axes>"
      ]
     },
     "metadata": {},
     "output_type": "display_data"
    }
   ],
   "source": [
    "fig,axs = plt.subplots(1,2, figsize=(14,5))\n",
    "\n",
    "axs[0].hist(df[['TP_SEXO', 'NU_NOTA_REDACAO']][df['TP_SEXO'] == 'F']['NU_NOTA_REDACAO'], bins=20)\n",
    "axs[1].hist(df[['TP_SEXO', 'NU_NOTA_REDACAO']][df['TP_SEXO'] == 'M']['NU_NOTA_REDACAO'], bins=20)\n",
    "\n",
    "axs[0].set_title('Histograma das Notas de Redação do Sexo Feminino')\n",
    "axs[1].set_title('Histograma das Notas de Redação do Sexo Masculino')\n",
    "plt.show()"
   ]
  },
  {
   "cell_type": "code",
   "execution_count": 38,
   "id": "cc061534-8fad-4b50-b226-13f81c5caaf5",
   "metadata": {},
   "outputs": [
    {
     "data": {
      "text/html": [
       "<div>\n",
       "<style scoped>\n",
       "    .dataframe tbody tr th:only-of-type {\n",
       "        vertical-align: middle;\n",
       "    }\n",
       "\n",
       "    .dataframe tbody tr th {\n",
       "        vertical-align: top;\n",
       "    }\n",
       "\n",
       "    .dataframe thead th {\n",
       "        text-align: right;\n",
       "    }\n",
       "</style>\n",
       "<table border=\"1\" class=\"dataframe\">\n",
       "  <thead>\n",
       "    <tr style=\"text-align: right;\">\n",
       "      <th></th>\n",
       "      <th>TP_SEXO</th>\n",
       "      <th>NU_NOTA_MT</th>\n",
       "    </tr>\n",
       "  </thead>\n",
       "  <tbody>\n",
       "    <tr>\n",
       "      <th>1</th>\n",
       "      <td>M</td>\n",
       "      <td>461.5</td>\n",
       "    </tr>\n",
       "    <tr>\n",
       "      <th>3</th>\n",
       "      <td>M</td>\n",
       "      <td>659.5</td>\n",
       "    </tr>\n",
       "    <tr>\n",
       "      <th>4</th>\n",
       "      <td>F</td>\n",
       "      <td>582.6</td>\n",
       "    </tr>\n",
       "    <tr>\n",
       "      <th>8</th>\n",
       "      <td>F</td>\n",
       "      <td>493.4</td>\n",
       "    </tr>\n",
       "    <tr>\n",
       "      <th>9</th>\n",
       "      <td>F</td>\n",
       "      <td>413.3</td>\n",
       "    </tr>\n",
       "  </tbody>\n",
       "</table>\n",
       "</div>"
      ],
      "text/plain": [
       "  TP_SEXO  NU_NOTA_MT\n",
       "1       M       461.5\n",
       "3       M       659.5\n",
       "4       F       582.6\n",
       "8       F       493.4\n",
       "9       F       413.3"
      ]
     },
     "execution_count": 38,
     "metadata": {},
     "output_type": "execute_result"
    }
   ],
   "source": [
    "df[['TP_SEXO', 'NU_NOTA_MT']].dropna().head()"
   ]
  },
  {
   "cell_type": "code",
   "execution_count": 39,
   "id": "6ceb74ed-d949-49d9-8488-4e8de04178b0",
   "metadata": {},
   "outputs": [
    {
     "data": {
      "text/html": [
       "<div>\n",
       "<style scoped>\n",
       "    .dataframe tbody tr th:only-of-type {\n",
       "        vertical-align: middle;\n",
       "    }\n",
       "\n",
       "    .dataframe tbody tr th {\n",
       "        vertical-align: top;\n",
       "    }\n",
       "\n",
       "    .dataframe thead tr th {\n",
       "        text-align: left;\n",
       "    }\n",
       "\n",
       "    .dataframe thead tr:last-of-type th {\n",
       "        text-align: right;\n",
       "    }\n",
       "</style>\n",
       "<table border=\"1\" class=\"dataframe\">\n",
       "  <thead>\n",
       "    <tr>\n",
       "      <th></th>\n",
       "      <th colspan=\"8\" halign=\"left\">NU_NOTA_MT</th>\n",
       "    </tr>\n",
       "    <tr>\n",
       "      <th></th>\n",
       "      <th>count</th>\n",
       "      <th>mean</th>\n",
       "      <th>std</th>\n",
       "      <th>min</th>\n",
       "      <th>25%</th>\n",
       "      <th>50%</th>\n",
       "      <th>75%</th>\n",
       "      <th>max</th>\n",
       "    </tr>\n",
       "    <tr>\n",
       "      <th>TP_SEXO</th>\n",
       "      <th></th>\n",
       "      <th></th>\n",
       "      <th></th>\n",
       "      <th></th>\n",
       "      <th></th>\n",
       "      <th></th>\n",
       "      <th></th>\n",
       "      <th></th>\n",
       "    </tr>\n",
       "  </thead>\n",
       "  <tbody>\n",
       "    <tr>\n",
       "      <th>F</th>\n",
       "      <td>1386041.0</td>\n",
       "      <td>519.81</td>\n",
       "      <td>103.74</td>\n",
       "      <td>0.0</td>\n",
       "      <td>437.1</td>\n",
       "      <td>498.4</td>\n",
       "      <td>589.2</td>\n",
       "      <td>953.1</td>\n",
       "    </tr>\n",
       "    <tr>\n",
       "      <th>M</th>\n",
       "      <td>859803.0</td>\n",
       "      <td>559.70</td>\n",
       "      <td>116.77</td>\n",
       "      <td>0.0</td>\n",
       "      <td>461.8</td>\n",
       "      <td>548.9</td>\n",
       "      <td>647.0</td>\n",
       "      <td>953.1</td>\n",
       "    </tr>\n",
       "  </tbody>\n",
       "</table>\n",
       "</div>"
      ],
      "text/plain": [
       "        NU_NOTA_MT                                                 \n",
       "             count    mean     std  min    25%    50%    75%    max\n",
       "TP_SEXO                                                            \n",
       "F        1386041.0  519.81  103.74  0.0  437.1  498.4  589.2  953.1\n",
       "M         859803.0  559.70  116.77  0.0  461.8  548.9  647.0  953.1"
      ]
     },
     "execution_count": 39,
     "metadata": {},
     "output_type": "execute_result"
    }
   ],
   "source": [
    "df[['TP_SEXO', 'NU_NOTA_MT']].groupby('TP_SEXO').describe().round(2)"
   ]
  },
  {
   "cell_type": "code",
   "execution_count": 40,
   "id": "a3a91665-20ae-4e00-a986-6042f15b1869",
   "metadata": {},
   "outputs": [
    {
     "data": {
      "image/png": "[encoded data removed]",
      "text/plain": [
       "<Figure size 700x500 with 1 Axes>"
      ]
     },
     "metadata": {},
     "output_type": "display_data"
    }
   ],
   "source": [
    "fig,ax = plt.subplots(figsize=(7,5))\n",
    "\n",
    "sns.boxplot(data=df, x='TP_SEXO', y='NU_NOTA_MT')\n",
    "\n",
    "ax.set_xlabel('')\n",
    "ax.set_ylabel('')\n",
    "\n",
    "ax.set_title('Boxplot das Notas de Matemática por Sexo')\n",
    "\n",
    "plt.show()"
   ]
  },
  {
   "cell_type": "code",
   "execution_count": 41,
   "id": "9ce30d72-644c-4f38-a34b-58b0bc58e232",
   "metadata": {},
   "outputs": [
    {
     "data": {
      "image/png": "[encoded data removed]",
      "text/plain": [
       "<Figure size 1400x500 with 2 Axes>"
      ]
     },
     "metadata": {},
     "output_type": "display_data"
    }
   ],
   "source": [
    "fig,axs = plt.subplots(1,2, figsize=(14,5))\n",
    "\n",
    "axs[0].hist(df[['TP_SEXO', 'NU_NOTA_MT']][df['TP_SEXO'] == 'F']['NU_NOTA_MT'], bins=20)\n",
    "axs[1].hist(df[['TP_SEXO', 'NU_NOTA_MT']][df['TP_SEXO'] == 'M']['NU_NOTA_MT'], bins=20)\n",
    "\n",
    "axs[0].set_title('Histograma das Notas de Matemática do Sexo Feminino')\n",
    "axs[1].set_title('Histograma das Notas de Matemática do Sexo Masculino')\n",
    "plt.show()"
   ]
  },
  {
   "cell_type": "markdown",
   "id": "54da7813-844c-45c5-81be-1e3ad6f57e6f",
   "metadata": {},
   "source": [
    "## Análise Exploratória\n",
    "---\n",
    "\n",
    "- Analisando em relação ao tipo de escola (municipal, estadual, federal e privada) observa-se que as escolas federais e privadas possuem valores de notas mais próximos, o que faz sentido, visto que de forma mais comum, o ingresso nas escolas federais ocorre por meio dos exames de seleção (aplicação de prova) ou por meio da análise de históricos escolares dos Ensinos Fundamental.\n",
    "\n",
    "- Inclusive os institutos federais já estiveram no topo da lista de notas do Enem, porém desde 2017 o Governo Federal parou de divulgar os resultados do Enem por escola. O último ano que se tem é 2016, quando os institutos federais estiveram no topo da lista."
   ]
  },
  {
   "cell_type": "code",
   "execution_count": 42,
   "id": "fd047f26-b725-4a9c-9323-c6eccf2450d4",
   "metadata": {},
   "outputs": [],
   "source": [
    "df[nota + ['TP_DEPENDENCIA_ADM_ESC']]\n",
    "df['TP_DEPENDENCIA_ADM_ESC'] = df['TP_DEPENDENCIA_ADM_ESC'].map({1.: 'Federal', 2.: 'Estadual', 3.: 'Municipal', 4.: 'Privada'})"
   ]
  },
  {
   "cell_type": "code",
   "execution_count": 43,
   "id": "9cb525bb-1ea3-41e2-925a-39c45ed21861",
   "metadata": {},
   "outputs": [
    {
     "data": {
      "image/png": "[encoded data removed]",
      "text/plain": [
       "<Figure size 1500x400 with 4 Axes>"
      ]
     },
     "metadata": {},
     "output_type": "display_data"
    }
   ],
   "source": [
    "fig, ax = plt.subplots(1, 4, figsize=(15,4))\n",
    "\n",
    "nome_provas = ['Nota CN', 'Nota CH', 'Nota LC', 'Nota MT']\n",
    "for i in range(4):\n",
    "    sns.boxplot(ax=ax[i], data=df, x='TP_DEPENDENCIA_ADM_ESC', y=nota[i])\n",
    "    ax[i].set_xlabel('')\n",
    "    ax[i].set_ylabel('')   \n",
    "    ax[i].set_title(nome_provas[i])\n",
    "    \n",
    "fig.suptitle('Boxplots das notas de cada prova por escola')\n",
    "fig.tight_layout()\n"
   ]
  },
  {
   "cell_type": "markdown",
   "id": "2329df6c-d435-4b75-8455-9d830cd0659f",
   "metadata": {},
   "source": [
    "## Análise Exploratória\n",
    "---\n",
    "\n",
    "- Analisando o investimento em educação por estado e o resultado das notas. \n",
    "\n",
    "- Com base nos dados do orçamento do Governo Federal de 2021, os 3 estados com maior investimento em Educação (Despesas pagas) foram: SP, MG e PR.\n",
    "- E os 3 estados com menor investimento foram: RR, AL e SE.\n",
    "- Resultado não é conclusivo, visto através do boxplot que a mediana das notas são próximas. Sendo por tanto fazer uma afirmação com base na região uma questão preconceituosa."
   ]
  },
  {
   "cell_type": "code",
   "execution_count": 44,
   "id": "5235329b-f022-45ed-bfb2-2fcd5bee1eb4",
   "metadata": {},
   "outputs": [
    {
     "data": {
      "text/html": [
       "<div>\n",
       "<style scoped>\n",
       "    .dataframe tbody tr th:only-of-type {\n",
       "        vertical-align: middle;\n",
       "    }\n",
       "\n",
       "    .dataframe tbody tr th {\n",
       "        vertical-align: top;\n",
       "    }\n",
       "\n",
       "    .dataframe thead tr th {\n",
       "        text-align: left;\n",
       "    }\n",
       "\n",
       "    .dataframe thead tr:last-of-type th {\n",
       "        text-align: right;\n",
       "    }\n",
       "</style>\n",
       "<table border=\"1\" class=\"dataframe\">\n",
       "  <thead>\n",
       "    <tr>\n",
       "      <th></th>\n",
       "      <th colspan=\"8\" halign=\"left\">NU_NOTA_MT</th>\n",
       "    </tr>\n",
       "    <tr>\n",
       "      <th></th>\n",
       "      <th>count</th>\n",
       "      <th>mean</th>\n",
       "      <th>std</th>\n",
       "      <th>min</th>\n",
       "      <th>25%</th>\n",
       "      <th>50%</th>\n",
       "      <th>75%</th>\n",
       "      <th>max</th>\n",
       "    </tr>\n",
       "    <tr>\n",
       "      <th>SG_UF_ESC</th>\n",
       "      <th></th>\n",
       "      <th></th>\n",
       "      <th></th>\n",
       "      <th></th>\n",
       "      <th></th>\n",
       "      <th></th>\n",
       "      <th></th>\n",
       "      <th></th>\n",
       "    </tr>\n",
       "  </thead>\n",
       "  <tbody>\n",
       "    <tr>\n",
       "      <th>AC</th>\n",
       "      <td>2259.0</td>\n",
       "      <td>504.85</td>\n",
       "      <td>90.85</td>\n",
       "      <td>334.2</td>\n",
       "      <td>432.25</td>\n",
       "      <td>486.20</td>\n",
       "      <td>564.70</td>\n",
       "      <td>831.6</td>\n",
       "    </tr>\n",
       "    <tr>\n",
       "      <th>AL</th>\n",
       "      <td>8700.0</td>\n",
       "      <td>526.85</td>\n",
       "      <td>106.62</td>\n",
       "      <td>0.0</td>\n",
       "      <td>439.10</td>\n",
       "      <td>507.55</td>\n",
       "      <td>601.02</td>\n",
       "      <td>948.5</td>\n",
       "    </tr>\n",
       "    <tr>\n",
       "      <th>AM</th>\n",
       "      <td>15959.0</td>\n",
       "      <td>480.56</td>\n",
       "      <td>86.98</td>\n",
       "      <td>0.0</td>\n",
       "      <td>417.10</td>\n",
       "      <td>458.50</td>\n",
       "      <td>523.50</td>\n",
       "      <td>953.1</td>\n",
       "    </tr>\n",
       "    <tr>\n",
       "      <th>AP</th>\n",
       "      <td>2157.0</td>\n",
       "      <td>494.29</td>\n",
       "      <td>88.72</td>\n",
       "      <td>345.2</td>\n",
       "      <td>425.80</td>\n",
       "      <td>477.30</td>\n",
       "      <td>545.60</td>\n",
       "      <td>861.4</td>\n",
       "    </tr>\n",
       "    <tr>\n",
       "      <th>BA</th>\n",
       "      <td>34982.0</td>\n",
       "      <td>524.08</td>\n",
       "      <td>104.66</td>\n",
       "      <td>0.0</td>\n",
       "      <td>439.00</td>\n",
       "      <td>503.10</td>\n",
       "      <td>597.38</td>\n",
       "      <td>953.1</td>\n",
       "    </tr>\n",
       "    <tr>\n",
       "      <th>CE</th>\n",
       "      <td>59012.0</td>\n",
       "      <td>501.17</td>\n",
       "      <td>101.68</td>\n",
       "      <td>0.0</td>\n",
       "      <td>423.60</td>\n",
       "      <td>473.70</td>\n",
       "      <td>559.20</td>\n",
       "      <td>953.1</td>\n",
       "    </tr>\n",
       "    <tr>\n",
       "      <th>DF</th>\n",
       "      <td>14499.0</td>\n",
       "      <td>552.27</td>\n",
       "      <td>113.43</td>\n",
       "      <td>0.0</td>\n",
       "      <td>459.00</td>\n",
       "      <td>538.40</td>\n",
       "      <td>635.20</td>\n",
       "      <td>953.1</td>\n",
       "    </tr>\n",
       "    <tr>\n",
       "      <th>ES</th>\n",
       "      <td>13946.0</td>\n",
       "      <td>553.40</td>\n",
       "      <td>113.01</td>\n",
       "      <td>0.0</td>\n",
       "      <td>459.10</td>\n",
       "      <td>541.80</td>\n",
       "      <td>637.00</td>\n",
       "      <td>953.1</td>\n",
       "    </tr>\n",
       "    <tr>\n",
       "      <th>GO</th>\n",
       "      <td>24699.0</td>\n",
       "      <td>528.77</td>\n",
       "      <td>107.88</td>\n",
       "      <td>0.0</td>\n",
       "      <td>440.70</td>\n",
       "      <td>507.90</td>\n",
       "      <td>604.90</td>\n",
       "      <td>953.1</td>\n",
       "    </tr>\n",
       "    <tr>\n",
       "      <th>MA</th>\n",
       "      <td>16534.0</td>\n",
       "      <td>501.49</td>\n",
       "      <td>98.01</td>\n",
       "      <td>0.0</td>\n",
       "      <td>425.60</td>\n",
       "      <td>477.40</td>\n",
       "      <td>560.20</td>\n",
       "      <td>920.5</td>\n",
       "    </tr>\n",
       "    <tr>\n",
       "      <th>MG</th>\n",
       "      <td>50605.0</td>\n",
       "      <td>576.80</td>\n",
       "      <td>117.58</td>\n",
       "      <td>0.0</td>\n",
       "      <td>478.00</td>\n",
       "      <td>574.00</td>\n",
       "      <td>665.70</td>\n",
       "      <td>953.1</td>\n",
       "    </tr>\n",
       "    <tr>\n",
       "      <th>MS</th>\n",
       "      <td>8103.0</td>\n",
       "      <td>536.12</td>\n",
       "      <td>108.19</td>\n",
       "      <td>0.0</td>\n",
       "      <td>447.50</td>\n",
       "      <td>517.70</td>\n",
       "      <td>610.95</td>\n",
       "      <td>948.5</td>\n",
       "    </tr>\n",
       "    <tr>\n",
       "      <th>MT</th>\n",
       "      <td>9579.0</td>\n",
       "      <td>530.03</td>\n",
       "      <td>103.72</td>\n",
       "      <td>327.0</td>\n",
       "      <td>445.85</td>\n",
       "      <td>512.70</td>\n",
       "      <td>604.00</td>\n",
       "      <td>944.1</td>\n",
       "    </tr>\n",
       "    <tr>\n",
       "      <th>PA</th>\n",
       "      <td>21150.0</td>\n",
       "      <td>504.38</td>\n",
       "      <td>96.80</td>\n",
       "      <td>0.0</td>\n",
       "      <td>428.40</td>\n",
       "      <td>482.50</td>\n",
       "      <td>564.10</td>\n",
       "      <td>913.3</td>\n",
       "    </tr>\n",
       "    <tr>\n",
       "      <th>PB</th>\n",
       "      <td>13497.0</td>\n",
       "      <td>529.37</td>\n",
       "      <td>110.01</td>\n",
       "      <td>0.0</td>\n",
       "      <td>440.40</td>\n",
       "      <td>505.60</td>\n",
       "      <td>604.90</td>\n",
       "      <td>944.1</td>\n",
       "    </tr>\n",
       "    <tr>\n",
       "      <th>PE</th>\n",
       "      <td>30017.0</td>\n",
       "      <td>533.37</td>\n",
       "      <td>110.20</td>\n",
       "      <td>0.0</td>\n",
       "      <td>443.10</td>\n",
       "      <td>512.30</td>\n",
       "      <td>612.60</td>\n",
       "      <td>953.1</td>\n",
       "    </tr>\n",
       "    <tr>\n",
       "      <th>PI</th>\n",
       "      <td>11290.0</td>\n",
       "      <td>527.20</td>\n",
       "      <td>113.92</td>\n",
       "      <td>346.7</td>\n",
       "      <td>435.80</td>\n",
       "      <td>501.00</td>\n",
       "      <td>602.48</td>\n",
       "      <td>953.1</td>\n",
       "    </tr>\n",
       "    <tr>\n",
       "      <th>PR</th>\n",
       "      <td>33089.0</td>\n",
       "      <td>554.10</td>\n",
       "      <td>109.96</td>\n",
       "      <td>0.0</td>\n",
       "      <td>463.60</td>\n",
       "      <td>542.30</td>\n",
       "      <td>635.60</td>\n",
       "      <td>953.1</td>\n",
       "    </tr>\n",
       "    <tr>\n",
       "      <th>RJ</th>\n",
       "      <td>44407.0</td>\n",
       "      <td>563.57</td>\n",
       "      <td>114.38</td>\n",
       "      <td>0.0</td>\n",
       "      <td>467.50</td>\n",
       "      <td>554.90</td>\n",
       "      <td>649.90</td>\n",
       "      <td>953.1</td>\n",
       "    </tr>\n",
       "    <tr>\n",
       "      <th>RN</th>\n",
       "      <td>11037.0</td>\n",
       "      <td>549.09</td>\n",
       "      <td>113.33</td>\n",
       "      <td>0.0</td>\n",
       "      <td>454.80</td>\n",
       "      <td>533.20</td>\n",
       "      <td>633.40</td>\n",
       "      <td>944.1</td>\n",
       "    </tr>\n",
       "    <tr>\n",
       "      <th>RO</th>\n",
       "      <td>4965.0</td>\n",
       "      <td>510.79</td>\n",
       "      <td>93.87</td>\n",
       "      <td>322.2</td>\n",
       "      <td>436.50</td>\n",
       "      <td>491.60</td>\n",
       "      <td>571.70</td>\n",
       "      <td>889.8</td>\n",
       "    </tr>\n",
       "    <tr>\n",
       "      <th>RR</th>\n",
       "      <td>1237.0</td>\n",
       "      <td>507.70</td>\n",
       "      <td>97.34</td>\n",
       "      <td>0.0</td>\n",
       "      <td>432.20</td>\n",
       "      <td>487.90</td>\n",
       "      <td>570.80</td>\n",
       "      <td>866.3</td>\n",
       "    </tr>\n",
       "    <tr>\n",
       "      <th>RS</th>\n",
       "      <td>28116.0</td>\n",
       "      <td>559.24</td>\n",
       "      <td>109.47</td>\n",
       "      <td>0.0</td>\n",
       "      <td>468.30</td>\n",
       "      <td>552.25</td>\n",
       "      <td>641.40</td>\n",
       "      <td>953.1</td>\n",
       "    </tr>\n",
       "    <tr>\n",
       "      <th>SC</th>\n",
       "      <td>19906.0</td>\n",
       "      <td>563.75</td>\n",
       "      <td>109.91</td>\n",
       "      <td>0.0</td>\n",
       "      <td>472.70</td>\n",
       "      <td>558.20</td>\n",
       "      <td>646.10</td>\n",
       "      <td>953.1</td>\n",
       "    </tr>\n",
       "    <tr>\n",
       "      <th>SE</th>\n",
       "      <td>6772.0</td>\n",
       "      <td>532.78</td>\n",
       "      <td>108.73</td>\n",
       "      <td>0.0</td>\n",
       "      <td>444.10</td>\n",
       "      <td>513.60</td>\n",
       "      <td>610.60</td>\n",
       "      <td>953.1</td>\n",
       "    </tr>\n",
       "    <tr>\n",
       "      <th>SP</th>\n",
       "      <td>113247.0</td>\n",
       "      <td>573.70</td>\n",
       "      <td>110.54</td>\n",
       "      <td>0.0</td>\n",
       "      <td>482.90</td>\n",
       "      <td>571.60</td>\n",
       "      <td>655.20</td>\n",
       "      <td>953.1</td>\n",
       "    </tr>\n",
       "    <tr>\n",
       "      <th>TO</th>\n",
       "      <td>4507.0</td>\n",
       "      <td>508.78</td>\n",
       "      <td>98.35</td>\n",
       "      <td>0.0</td>\n",
       "      <td>430.85</td>\n",
       "      <td>486.00</td>\n",
       "      <td>574.20</td>\n",
       "      <td>884.1</td>\n",
       "    </tr>\n",
       "  </tbody>\n",
       "</table>\n",
       "</div>"
      ],
      "text/plain": [
       "          NU_NOTA_MT                                                      \n",
       "               count    mean     std    min     25%     50%     75%    max\n",
       "SG_UF_ESC                                                                 \n",
       "AC            2259.0  504.85   90.85  334.2  432.25  486.20  564.70  831.6\n",
       "AL            8700.0  526.85  106.62    0.0  439.10  507.55  601.02  948.5\n",
       "AM           15959.0  480.56   86.98    0.0  417.10  458.50  523.50  953.1\n",
       "AP            2157.0  494.29   88.72  345.2  425.80  477.30  545.60  861.4\n",
       "BA           34982.0  524.08  104.66    0.0  439.00  503.10  597.38  953.1\n",
       "CE           59012.0  501.17  101.68    0.0  423.60  473.70  559.20  953.1\n",
       "DF           14499.0  552.27  113.43    0.0  459.00  538.40  635.20  953.1\n",
       "ES           13946.0  553.40  113.01    0.0  459.10  541.80  637.00  953.1\n",
       "GO           24699.0  528.77  107.88    0.0  440.70  507.90  604.90  953.1\n",
       "MA           16534.0  501.49   98.01    0.0  425.60  477.40  560.20  920.5\n",
       "MG           50605.0  576.80  117.58    0.0  478.00  574.00  665.70  953.1\n",
       "MS            8103.0  536.12  108.19    0.0  447.50  517.70  610.95  948.5\n",
       "MT            9579.0  530.03  103.72  327.0  445.85  512.70  604.00  944.1\n",
       "PA           21150.0  504.38   96.80    0.0  428.40  482.50  564.10  913.3\n",
       "PB           13497.0  529.37  110.01    0.0  440.40  505.60  604.90  944.1\n",
       "PE           30017.0  533.37  110.20    0.0  443.10  512.30  612.60  953.1\n",
       "PI           11290.0  527.20  113.92  346.7  435.80  501.00  602.48  953.1\n",
       "PR           33089.0  554.10  109.96    0.0  463.60  542.30  635.60  953.1\n",
       "RJ           44407.0  563.57  114.38    0.0  467.50  554.90  649.90  953.1\n",
       "RN           11037.0  549.09  113.33    0.0  454.80  533.20  633.40  944.1\n",
       "RO            4965.0  510.79   93.87  322.2  436.50  491.60  571.70  889.8\n",
       "RR            1237.0  507.70   97.34    0.0  432.20  487.90  570.80  866.3\n",
       "RS           28116.0  559.24  109.47    0.0  468.30  552.25  641.40  953.1\n",
       "SC           19906.0  563.75  109.91    0.0  472.70  558.20  646.10  953.1\n",
       "SE            6772.0  532.78  108.73    0.0  444.10  513.60  610.60  953.1\n",
       "SP          113247.0  573.70  110.54    0.0  482.90  571.60  655.20  953.1\n",
       "TO            4507.0  508.78   98.35    0.0  430.85  486.00  574.20  884.1"
      ]
     },
     "execution_count": 44,
     "metadata": {},
     "output_type": "execute_result"
    }
   ],
   "source": [
    "df[['SG_UF_ESC', 'NU_NOTA_MT']].groupby('SG_UF_ESC').describe().round(2)"
   ]
  },
  {
   "cell_type": "code",
   "execution_count": 45,
   "id": "b6820026-b6d7-4ef1-b9d5-efcec3d9de38",
   "metadata": {},
   "outputs": [
    {
     "data": {
      "text/html": [
       "<div>\n",
       "<style scoped>\n",
       "    .dataframe tbody tr th:only-of-type {\n",
       "        vertical-align: middle;\n",
       "    }\n",
       "\n",
       "    .dataframe tbody tr th {\n",
       "        vertical-align: top;\n",
       "    }\n",
       "\n",
       "    .dataframe thead th {\n",
       "        text-align: right;\n",
       "    }\n",
       "</style>\n",
       "<table border=\"1\" class=\"dataframe\">\n",
       "  <thead>\n",
       "    <tr style=\"text-align: right;\">\n",
       "      <th></th>\n",
       "      <th>NU_INSCRICAO</th>\n",
       "      <th>NU_ANO</th>\n",
       "      <th>TP_FAIXA_ETARIA</th>\n",
       "      <th>TP_SEXO</th>\n",
       "      <th>TP_ESTADO_CIVIL</th>\n",
       "      <th>TP_COR_RACA</th>\n",
       "      <th>TP_NACIONALIDADE</th>\n",
       "      <th>TP_ST_CONCLUSAO</th>\n",
       "      <th>TP_ANO_CONCLUIU</th>\n",
       "      <th>TP_ESCOLA</th>\n",
       "      <th>...</th>\n",
       "      <th>Q017</th>\n",
       "      <th>Q018</th>\n",
       "      <th>Q019</th>\n",
       "      <th>Q020</th>\n",
       "      <th>Q021</th>\n",
       "      <th>Q022</th>\n",
       "      <th>Q023</th>\n",
       "      <th>Q024</th>\n",
       "      <th>Q025</th>\n",
       "      <th>TP_FAIXA_ETARIA_REDUZIDA</th>\n",
       "    </tr>\n",
       "  </thead>\n",
       "  <tbody>\n",
       "    <tr>\n",
       "      <th>63</th>\n",
       "      <td>210052097511</td>\n",
       "      <td>2021</td>\n",
       "      <td>3</td>\n",
       "      <td>F</td>\n",
       "      <td>1</td>\n",
       "      <td>1</td>\n",
       "      <td>1</td>\n",
       "      <td>2</td>\n",
       "      <td>0</td>\n",
       "      <td>2</td>\n",
       "      <td>...</td>\n",
       "      <td>A</td>\n",
       "      <td>A</td>\n",
       "      <td>B</td>\n",
       "      <td>B</td>\n",
       "      <td>A</td>\n",
       "      <td>C</td>\n",
       "      <td>B</td>\n",
       "      <td>C</td>\n",
       "      <td>B</td>\n",
       "      <td>Entre 17 e 19 anos</td>\n",
       "    </tr>\n",
       "    <tr>\n",
       "      <th>71</th>\n",
       "      <td>210053495342</td>\n",
       "      <td>2021</td>\n",
       "      <td>3</td>\n",
       "      <td>F</td>\n",
       "      <td>1</td>\n",
       "      <td>1</td>\n",
       "      <td>1</td>\n",
       "      <td>2</td>\n",
       "      <td>0</td>\n",
       "      <td>2</td>\n",
       "      <td>...</td>\n",
       "      <td>A</td>\n",
       "      <td>A</td>\n",
       "      <td>B</td>\n",
       "      <td>A</td>\n",
       "      <td>B</td>\n",
       "      <td>E</td>\n",
       "      <td>A</td>\n",
       "      <td>A</td>\n",
       "      <td>B</td>\n",
       "      <td>Entre 17 e 19 anos</td>\n",
       "    </tr>\n",
       "    <tr>\n",
       "      <th>75</th>\n",
       "      <td>210053524905</td>\n",
       "      <td>2021</td>\n",
       "      <td>2</td>\n",
       "      <td>F</td>\n",
       "      <td>1</td>\n",
       "      <td>1</td>\n",
       "      <td>1</td>\n",
       "      <td>2</td>\n",
       "      <td>0</td>\n",
       "      <td>2</td>\n",
       "      <td>...</td>\n",
       "      <td>A</td>\n",
       "      <td>B</td>\n",
       "      <td>B</td>\n",
       "      <td>A</td>\n",
       "      <td>B</td>\n",
       "      <td>E</td>\n",
       "      <td>A</td>\n",
       "      <td>C</td>\n",
       "      <td>B</td>\n",
       "      <td>Entre 17 e 19 anos</td>\n",
       "    </tr>\n",
       "    <tr>\n",
       "      <th>169</th>\n",
       "      <td>210051235712</td>\n",
       "      <td>2021</td>\n",
       "      <td>2</td>\n",
       "      <td>F</td>\n",
       "      <td>1</td>\n",
       "      <td>1</td>\n",
       "      <td>1</td>\n",
       "      <td>2</td>\n",
       "      <td>0</td>\n",
       "      <td>2</td>\n",
       "      <td>...</td>\n",
       "      <td>A</td>\n",
       "      <td>B</td>\n",
       "      <td>B</td>\n",
       "      <td>A</td>\n",
       "      <td>A</td>\n",
       "      <td>E</td>\n",
       "      <td>A</td>\n",
       "      <td>B</td>\n",
       "      <td>B</td>\n",
       "      <td>Entre 17 e 19 anos</td>\n",
       "    </tr>\n",
       "    <tr>\n",
       "      <th>240</th>\n",
       "      <td>210051574300</td>\n",
       "      <td>2021</td>\n",
       "      <td>2</td>\n",
       "      <td>F</td>\n",
       "      <td>1</td>\n",
       "      <td>3</td>\n",
       "      <td>1</td>\n",
       "      <td>2</td>\n",
       "      <td>0</td>\n",
       "      <td>2</td>\n",
       "      <td>...</td>\n",
       "      <td>A</td>\n",
       "      <td>A</td>\n",
       "      <td>B</td>\n",
       "      <td>A</td>\n",
       "      <td>A</td>\n",
       "      <td>B</td>\n",
       "      <td>A</td>\n",
       "      <td>A</td>\n",
       "      <td>B</td>\n",
       "      <td>Entre 17 e 19 anos</td>\n",
       "    </tr>\n",
       "  </tbody>\n",
       "</table>\n",
       "<p>5 rows × 77 columns</p>\n",
       "</div>"
      ],
      "text/plain": [
       "     NU_INSCRICAO  NU_ANO  TP_FAIXA_ETARIA TP_SEXO  TP_ESTADO_CIVIL  \\\n",
       "63   210052097511    2021                3       F                1   \n",
       "71   210053495342    2021                3       F                1   \n",
       "75   210053524905    2021                2       F                1   \n",
       "169  210051235712    2021                2       F                1   \n",
       "240  210051574300    2021                2       F                1   \n",
       "\n",
       "     TP_COR_RACA  TP_NACIONALIDADE  TP_ST_CONCLUSAO  TP_ANO_CONCLUIU  \\\n",
       "63             1                 1                2                0   \n",
       "71             1                 1                2                0   \n",
       "75             1                 1                2                0   \n",
       "169            1                 1                2                0   \n",
       "240            3                 1                2                0   \n",
       "\n",
       "     TP_ESCOLA  ...  Q017  Q018  Q019 Q020  Q021 Q022 Q023  Q024  Q025  \\\n",
       "63           2  ...     A     A     B    B     A    C    B     C     B   \n",
       "71           2  ...     A     A     B    A     B    E    A     A     B   \n",
       "75           2  ...     A     B     B    A     B    E    A     C     B   \n",
       "169          2  ...     A     B     B    A     A    E    A     B     B   \n",
       "240          2  ...     A     A     B    A     A    B    A     A     B   \n",
       "\n",
       "     TP_FAIXA_ETARIA_REDUZIDA  \n",
       "63         Entre 17 e 19 anos  \n",
       "71         Entre 17 e 19 anos  \n",
       "75         Entre 17 e 19 anos  \n",
       "169        Entre 17 e 19 anos  \n",
       "240        Entre 17 e 19 anos  \n",
       "\n",
       "[5 rows x 77 columns]"
      ]
     },
     "execution_count": 45,
     "metadata": {},
     "output_type": "execute_result"
    }
   ],
   "source": [
    "df[(df['SG_UF_ESC']=='SP') | (df['SG_UF_ESC']=='RR')].head()"
   ]
  },
  {
   "cell_type": "code",
   "execution_count": 46,
   "id": "21323d5c-d369-4fc4-a56a-222cafac3896",
   "metadata": {},
   "outputs": [
    {
     "data": {
      "image/png": "[encoded data removed]",
      "text/plain": [
       "<Figure size 1500x400 with 4 Axes>"
      ]
     },
     "metadata": {},
     "output_type": "display_data"
    }
   ],
   "source": [
    "fig, ax = plt.subplots(1, 4, figsize=(15,4))\n",
    "\n",
    "for i in range(4):\n",
    "    sns.boxplot(ax=ax[i], data=df[(df['SG_UF_ESC']=='SP') | (df['SG_UF_ESC']=='RR')], x='SG_UF_ESC', y=nota[i])\n",
    "    ax[i].set_xlabel('')\n",
    "    ax[i].set_ylabel('')   \n",
    "    ax[i].set_title(nome_provas[i])\n",
    "    \n",
    "fig.suptitle('Boxplots das notas de cada prova em SP e RR')\n",
    "fig.tight_layout()"
   ]
  },
  {
   "cell_type": "markdown",
   "id": "fd1165d0-4551-4684-9d75-e24ba740325f",
   "metadata": {},
   "source": [
    "## Análise Exploratória\n",
    "---\n",
    "\n",
    "- Nesta etapa será considerado que a **nota final do ENEM 2021 é a média entre as 5 notas**: Nota da prova de Ciências da Natureza (NU_NOTA_CN), Nota da prova de Ciências Humanas (NU_NOTA_CH), Nota da prova de Linguagens e Códigos (NU_NOTA_LC), Nota da prova de Matemática (NU_NOTA_MT) e Nota da prova de redação (NU_NOTA_REDACAO), assim criando um nova lista de dados intitulada como **NOTA_FINAL**.\n",
    "\n",
    "- Analisando a Nota Final por Tipo de Administração da escola, temos o mesmo resultado visto anteriormente para as notas individuais, como as escolas privadas e federais possuem nota mais alta."
   ]
  },
  {
   "cell_type": "code",
   "execution_count": 47,
   "id": "859dc2f9-2df7-4e89-a43f-c41ba2b3aedd",
   "metadata": {},
   "outputs": [],
   "source": [
    "df['NOTA_FINAL'] = (df['NU_NOTA_CN'] + df['NU_NOTA_CH'] + df['NU_NOTA_LC'] + df['NU_NOTA_MT'] + df['NU_NOTA_REDACAO'])/5"
   ]
  },
  {
   "cell_type": "code",
   "execution_count": 48,
   "id": "b54317a1-98ca-4399-bb6c-bc274f04f93b",
   "metadata": {},
   "outputs": [
    {
     "data": {
      "image/png": "[encoded data removed]",
      "text/plain": [
       "<Figure size 700x500 with 1 Axes>"
      ]
     },
     "metadata": {},
     "output_type": "display_data"
    }
   ],
   "source": [
    "fig,ax = plt.subplots(figsize=(7,5))\n",
    "\n",
    "df['NOTA_FINAL'].hist(ax=ax, grid=False, bins=20)\n",
    "\n",
    "ax.set_title('Histograma da Nota Final')\n",
    "plt.show()"
   ]
  },
  {
   "cell_type": "code",
   "execution_count": 49,
   "id": "5c681d52-25e4-4711-9b29-fb73ce4966ee",
   "metadata": {},
   "outputs": [
    {
     "data": {
      "text/html": [
       "<div>\n",
       "<style scoped>\n",
       "    .dataframe tbody tr th:only-of-type {\n",
       "        vertical-align: middle;\n",
       "    }\n",
       "\n",
       "    .dataframe tbody tr th {\n",
       "        vertical-align: top;\n",
       "    }\n",
       "\n",
       "    .dataframe thead tr th {\n",
       "        text-align: left;\n",
       "    }\n",
       "\n",
       "    .dataframe thead tr:last-of-type th {\n",
       "        text-align: right;\n",
       "    }\n",
       "</style>\n",
       "<table border=\"1\" class=\"dataframe\">\n",
       "  <thead>\n",
       "    <tr>\n",
       "      <th></th>\n",
       "      <th colspan=\"8\" halign=\"left\">NOTA_FINAL</th>\n",
       "    </tr>\n",
       "    <tr>\n",
       "      <th></th>\n",
       "      <th>count</th>\n",
       "      <th>mean</th>\n",
       "      <th>std</th>\n",
       "      <th>min</th>\n",
       "      <th>25%</th>\n",
       "      <th>50%</th>\n",
       "      <th>75%</th>\n",
       "      <th>max</th>\n",
       "    </tr>\n",
       "    <tr>\n",
       "      <th>TP_DEPENDENCIA_ADM_ESC</th>\n",
       "      <th></th>\n",
       "      <th></th>\n",
       "      <th></th>\n",
       "      <th></th>\n",
       "      <th></th>\n",
       "      <th></th>\n",
       "      <th></th>\n",
       "      <th></th>\n",
       "    </tr>\n",
       "  </thead>\n",
       "  <tbody>\n",
       "    <tr>\n",
       "      <th>Estadual</th>\n",
       "      <td>360253.0</td>\n",
       "      <td>500.66</td>\n",
       "      <td>76.30</td>\n",
       "      <td>0.00</td>\n",
       "      <td>449.72</td>\n",
       "      <td>496.20</td>\n",
       "      <td>549.78</td>\n",
       "      <td>835.66</td>\n",
       "    </tr>\n",
       "    <tr>\n",
       "      <th>Federal</th>\n",
       "      <td>41021.0</td>\n",
       "      <td>588.49</td>\n",
       "      <td>80.26</td>\n",
       "      <td>200.98</td>\n",
       "      <td>532.88</td>\n",
       "      <td>591.12</td>\n",
       "      <td>646.04</td>\n",
       "      <td>832.56</td>\n",
       "    </tr>\n",
       "    <tr>\n",
       "      <th>Municipal</th>\n",
       "      <td>4887.0</td>\n",
       "      <td>515.05</td>\n",
       "      <td>80.15</td>\n",
       "      <td>278.54</td>\n",
       "      <td>458.18</td>\n",
       "      <td>510.74</td>\n",
       "      <td>569.97</td>\n",
       "      <td>795.48</td>\n",
       "    </tr>\n",
       "    <tr>\n",
       "      <th>Privada</th>\n",
       "      <td>196290.0</td>\n",
       "      <td>597.78</td>\n",
       "      <td>82.48</td>\n",
       "      <td>0.00</td>\n",
       "      <td>538.96</td>\n",
       "      <td>599.14</td>\n",
       "      <td>658.30</td>\n",
       "      <td>846.10</td>\n",
       "    </tr>\n",
       "  </tbody>\n",
       "</table>\n",
       "</div>"
      ],
      "text/plain": [
       "                       NOTA_FINAL                                         \\\n",
       "                            count    mean    std     min     25%     50%   \n",
       "TP_DEPENDENCIA_ADM_ESC                                                     \n",
       "Estadual                 360253.0  500.66  76.30    0.00  449.72  496.20   \n",
       "Federal                   41021.0  588.49  80.26  200.98  532.88  591.12   \n",
       "Municipal                  4887.0  515.05  80.15  278.54  458.18  510.74   \n",
       "Privada                  196290.0  597.78  82.48    0.00  538.96  599.14   \n",
       "\n",
       "                                        \n",
       "                           75%     max  \n",
       "TP_DEPENDENCIA_ADM_ESC                  \n",
       "Estadual                549.78  835.66  \n",
       "Federal                 646.04  832.56  \n",
       "Municipal               569.97  795.48  \n",
       "Privada                 658.30  846.10  "
      ]
     },
     "execution_count": 49,
     "metadata": {},
     "output_type": "execute_result"
    }
   ],
   "source": [
    "df[['TP_DEPENDENCIA_ADM_ESC', 'NOTA_FINAL']].groupby('TP_DEPENDENCIA_ADM_ESC').describe().round(2)"
   ]
  },
  {
   "cell_type": "code",
   "execution_count": 50,
   "id": "92f175e7-2294-4b2e-946d-99038dbc5f39",
   "metadata": {},
   "outputs": [
    {
     "data": {
      "image/png": "[encoded data removed]",
      "text/plain": [
       "<Figure size 1000x400 with 1 Axes>"
      ]
     },
     "metadata": {},
     "output_type": "display_data"
    }
   ],
   "source": [
    "fig, ax = plt.subplots(figsize=(10,4))\n",
    "\n",
    "df[['TP_DEPENDENCIA_ADM_ESC', 'NOTA_FINAL']].groupby('TP_DEPENDENCIA_ADM_ESC').mean().sort_values(by='NOTA_FINAL', ascending=False).plot(ax=ax, legend=False)\n",
    "\n",
    "ax.set_xlabel('')\n",
    "ax.set_title('Nota Final x Tipo Escola')\n",
    "plt.show()"
   ]
  },
  {
   "cell_type": "markdown",
   "id": "a3eab683-b434-405b-9856-c0943e95401e",
   "metadata": {},
   "source": [
    "## Questionário Socioeconômico\n",
    "---\n",
    "\n",
    "- O Questionário Socioeconômico do Enem é um conjunto de 25 perguntas sobre a renda mensal da família, quantidade de eletrodomésticos na casa, escolaridade dos responsáveis, ocupação dos responsáveis e número de pessoas que residem na casa.\n",
    "\n",
    "- Ele surgiu em 2003, na sétima edição do Enem, com objetivo de colher informações importantes que podem servir de base para a formulação de novas políticas públicas na área da educação.\n",
    "\n",
    "- A classificação econômica é feita com base na posse de bens e não com base na renda familiar. Para cada bem possuído há uma pontuação e cada classe é definida pela soma dessa pontuação. As classes definidas pelo CCEB são A1, A2, B1, B2, C, D e E. Entretanto para fins didáticos irei fazer a classificação apenas baseado na renda familiar.\n",
    "\n",
    "- Analisando a relação de estudo dos pais com as notas. Os dados indicam que existe uma relação entre o grau de escolaridade e as notas. Para os participantes que tem os pais com maior grau de escolaridade, os resultados são maiores na média.\n",
    "\n",
    "- Analisando a relação da ocupação dos pais com as notas. Os dados indicam que existe uma relação entre as ocupações dos pais que exigem curso superior e as notas, como é o caso dos pais que são profissionais do Grupo 5 (Médico, engenheiro, dentista, psicólogo, economista, advogado, juiz, promotor e outros) onde os respectivos participantes obtiveram as maiores notas e o caso dos pais que são profissionais do Grupo 1 (Lavrador, agricultor sem empregados, bóia fria, criador de animais e outros) onde os respectivos participantes obtiveram as menores notas.\n",
    "\n",
    "- Analisando a relação da renda familiar com as notas. Os dados indicam que existe uma relação entre a renda familiar e as notas. Famílias com maiores rendas possuem participantes com resultado de valor médio de nota maior."
   ]
  },
  {
   "cell_type": "code",
   "execution_count": 51,
   "id": "e4644459-7d06-4bd9-a1e1-4d46849e4bb3",
   "metadata": {},
   "outputs": [],
   "source": [
    "df['Q001'] = df['Q001'].map({\n",
    "    'A': 'Nunca estudou', \n",
    "    'B': 'Não completou a 4ª série/5º ano do Ensino Fundamental', \n",
    "    'C': 'Completou a 4ª série/5º ano, mas não completou a 8ª série/9º ano do Ensino Fundamental', \n",
    "    'D': 'Completou a 8ª série/9º ano do Ensino Fundamental, mas não completou o Ensino Médio',\n",
    "    'E': 'Completou o Ensino Médio, mas não completou a Faculdade', \n",
    "    'F': 'Completou a Faculdade, mas não completou a Pós-graduação', \n",
    "    'G': 'Completou a Pós-graduação', \n",
    "    'H': 'Não sei'\n",
    "})"
   ]
  },
  {
   "cell_type": "code",
   "execution_count": 52,
   "id": "2ba046b4-c270-4956-83a3-258f3ba09667",
   "metadata": {},
   "outputs": [
    {
     "data": {
      "text/plain": [
       "Completou o Ensino Médio, mas não completou a Faculdade                                   0.281771\n",
       "Não completou a 4ª série/5º ano do Ensino Fundamental                                     0.188237\n",
       "Completou a 4ª série/5º ano, mas não completou a 8ª série/9º ano do Ensino Fundamental    0.133647\n",
       "Completou a 8ª série/9º ano do Ensino Fundamental, mas não completou o Ensino Médio       0.110218\n",
       "Completou a Faculdade, mas não completou a Pós-graduação                                  0.090905\n",
       "Não sei                                                                                   0.086557\n",
       "Completou a Pós-graduação                                                                 0.064891\n",
       "Nunca estudou                                                                             0.043775\n",
       "Name: Q001, dtype: float64"
      ]
     },
     "execution_count": 52,
     "metadata": {},
     "output_type": "execute_result"
    }
   ],
   "source": [
    "df['Q001'].value_counts(normalize=True)"
   ]
  },
  {
   "cell_type": "code",
   "execution_count": 53,
   "id": "39e85f0f-169a-4e06-9ea8-0099a47bfe8d",
   "metadata": {},
   "outputs": [],
   "source": [
    "df['Q002'] = df['Q002'].map({\n",
    "    'A': 'Nunca estudou', \n",
    "    'B': 'Não completou a 4ª série/5º ano do Ensino Fundamental', \n",
    "    'C': 'Completou a 4ª série/5º ano, mas não completou a 8ª série/9º ano do Ensino Fundamental', \n",
    "    'D': 'Completou a 8ª série/9º ano do Ensino Fundamental, mas não completou o Ensino Médio',\n",
    "    'E': 'Completou o Ensino Médio, mas não completou a Faculdade', \n",
    "    'F': 'Completou a Faculdade, mas não completou a Pós-graduação', \n",
    "    'G': 'Completou a Pós-graduação', \n",
    "    'H': 'Não sei'\n",
    "})"
   ]
  },
  {
   "cell_type": "code",
   "execution_count": 54,
   "id": "71d6e4e6-fa4d-440d-85dc-1b195acd891d",
   "metadata": {},
   "outputs": [
    {
     "data": {
      "text/plain": [
       "Completou o Ensino Médio, mas não completou a Faculdade                                   0.338830\n",
       "Não completou a 4ª série/5º ano do Ensino Fundamental                                     0.139006\n",
       "Completou a Faculdade, mas não completou a Pós-graduação                                  0.121371\n",
       "Completou a 8ª série/9º ano do Ensino Fundamental, mas não completou o Ensino Médio       0.117733\n",
       "Completou a 4ª série/5º ano, mas não completou a 8ª série/9º ano do Ensino Fundamental    0.115187\n",
       "Completou a Pós-graduação                                                                 0.112137\n",
       "Nunca estudou                                                                             0.029233\n",
       "Não sei                                                                                   0.026504\n",
       "Name: Q002, dtype: float64"
      ]
     },
     "execution_count": 54,
     "metadata": {},
     "output_type": "execute_result"
    }
   ],
   "source": [
    "df['Q002'].value_counts(normalize=True)"
   ]
  },
  {
   "cell_type": "code",
   "execution_count": 55,
   "id": "49a61ff9-b054-47ae-8842-71f9ae76c0d9",
   "metadata": {},
   "outputs": [],
   "source": [
    "df[['NU_NOTA_CN', 'NU_NOTA_CH', 'NU_NOTA_LC', 'NU_NOTA_MT','NU_NOTA_REDACAO']] = df[['NU_NOTA_CN', 'NU_NOTA_CH', 'NU_NOTA_LC', 'NU_NOTA_MT','NU_NOTA_REDACAO']].fillna(0)"
   ]
  },
  {
   "cell_type": "code",
   "execution_count": 56,
   "id": "51552e38-5d9d-4270-855c-10c5d206d884",
   "metadata": {},
   "outputs": [
    {
     "data": {
      "text/html": [
       "<div>\n",
       "<style scoped>\n",
       "    .dataframe tbody tr th:only-of-type {\n",
       "        vertical-align: middle;\n",
       "    }\n",
       "\n",
       "    .dataframe tbody tr th {\n",
       "        vertical-align: top;\n",
       "    }\n",
       "\n",
       "    .dataframe thead th {\n",
       "        text-align: right;\n",
       "    }\n",
       "</style>\n",
       "<table border=\"1\" class=\"dataframe\">\n",
       "  <thead>\n",
       "    <tr style=\"text-align: right;\">\n",
       "      <th></th>\n",
       "      <th>NU_NOTA_CN</th>\n",
       "      <th>NU_NOTA_CH</th>\n",
       "      <th>NU_NOTA_LC</th>\n",
       "      <th>NU_NOTA_MT</th>\n",
       "      <th>NU_NOTA_REDACAO</th>\n",
       "    </tr>\n",
       "  </thead>\n",
       "  <tbody>\n",
       "    <tr>\n",
       "      <th>0</th>\n",
       "      <td>0.0</td>\n",
       "      <td>574.6</td>\n",
       "      <td>472.6</td>\n",
       "      <td>0.0</td>\n",
       "      <td>760.0</td>\n",
       "    </tr>\n",
       "    <tr>\n",
       "      <th>1</th>\n",
       "      <td>505.9</td>\n",
       "      <td>551.8</td>\n",
       "      <td>498.3</td>\n",
       "      <td>461.5</td>\n",
       "      <td>560.0</td>\n",
       "    </tr>\n",
       "    <tr>\n",
       "      <th>2</th>\n",
       "      <td>0.0</td>\n",
       "      <td>0.0</td>\n",
       "      <td>0.0</td>\n",
       "      <td>0.0</td>\n",
       "      <td>0.0</td>\n",
       "    </tr>\n",
       "    <tr>\n",
       "      <th>3</th>\n",
       "      <td>580.7</td>\n",
       "      <td>678.9</td>\n",
       "      <td>638.9</td>\n",
       "      <td>659.5</td>\n",
       "      <td>780.0</td>\n",
       "    </tr>\n",
       "    <tr>\n",
       "      <th>4</th>\n",
       "      <td>497.7</td>\n",
       "      <td>532.4</td>\n",
       "      <td>457.6</td>\n",
       "      <td>582.6</td>\n",
       "      <td>780.0</td>\n",
       "    </tr>\n",
       "  </tbody>\n",
       "</table>\n",
       "</div>"
      ],
      "text/plain": [
       "   NU_NOTA_CN  NU_NOTA_CH  NU_NOTA_LC  NU_NOTA_MT  NU_NOTA_REDACAO\n",
       "0         0.0       574.6       472.6         0.0            760.0\n",
       "1       505.9       551.8       498.3       461.5            560.0\n",
       "2         0.0         0.0         0.0         0.0              0.0\n",
       "3       580.7       678.9       638.9       659.5            780.0\n",
       "4       497.7       532.4       457.6       582.6            780.0"
      ]
     },
     "execution_count": 56,
     "metadata": {},
     "output_type": "execute_result"
    }
   ],
   "source": [
    "df[['NU_NOTA_CN', 'NU_NOTA_CH', 'NU_NOTA_LC', 'NU_NOTA_MT','NU_NOTA_REDACAO']].head()"
   ]
  },
  {
   "cell_type": "code",
   "execution_count": 57,
   "id": "daa453b0-446f-49b2-a643-1d9d2c3c8ea1",
   "metadata": {},
   "outputs": [
    {
     "data": {
      "text/html": [
       "<div>\n",
       "<style scoped>\n",
       "    .dataframe tbody tr th:only-of-type {\n",
       "        vertical-align: middle;\n",
       "    }\n",
       "\n",
       "    .dataframe tbody tr th {\n",
       "        vertical-align: top;\n",
       "    }\n",
       "\n",
       "    .dataframe thead th {\n",
       "        text-align: right;\n",
       "    }\n",
       "</style>\n",
       "<table border=\"1\" class=\"dataframe\">\n",
       "  <thead>\n",
       "    <tr style=\"text-align: right;\">\n",
       "      <th></th>\n",
       "      <th>NOTA_FINAL</th>\n",
       "    </tr>\n",
       "    <tr>\n",
       "      <th>Q001</th>\n",
       "      <th></th>\n",
       "    </tr>\n",
       "  </thead>\n",
       "  <tbody>\n",
       "    <tr>\n",
       "      <th>Completou a Pós-graduação</th>\n",
       "      <td>599.478713</td>\n",
       "    </tr>\n",
       "    <tr>\n",
       "      <th>Completou a Faculdade, mas não completou a Pós-graduação</th>\n",
       "      <td>587.389404</td>\n",
       "    </tr>\n",
       "    <tr>\n",
       "      <th>Completou o Ensino Médio, mas não completou a Faculdade</th>\n",
       "      <td>543.305069</td>\n",
       "    </tr>\n",
       "    <tr>\n",
       "      <th>Completou a 8ª série/9º ano do Ensino Fundamental, mas não completou o Ensino Médio</th>\n",
       "      <td>524.579180</td>\n",
       "    </tr>\n",
       "    <tr>\n",
       "      <th>Completou a 4ª série/5º ano, mas não completou a 8ª série/9º ano do Ensino Fundamental</th>\n",
       "      <td>515.609701</td>\n",
       "    </tr>\n",
       "    <tr>\n",
       "      <th>Não sei</th>\n",
       "      <td>508.234104</td>\n",
       "    </tr>\n",
       "    <tr>\n",
       "      <th>Não completou a 4ª série/5º ano do Ensino Fundamental</th>\n",
       "      <td>499.822302</td>\n",
       "    </tr>\n",
       "    <tr>\n",
       "      <th>Nunca estudou</th>\n",
       "      <td>479.397549</td>\n",
       "    </tr>\n",
       "  </tbody>\n",
       "</table>\n",
       "</div>"
      ],
      "text/plain": [
       "                                                    NOTA_FINAL\n",
       "Q001                                                          \n",
       "Completou a Pós-graduação                           599.478713\n",
       "Completou a Faculdade, mas não completou a Pós-...  587.389404\n",
       "Completou o Ensino Médio, mas não completou a F...  543.305069\n",
       "Completou a 8ª série/9º ano do Ensino Fundament...  524.579180\n",
       "Completou a 4ª série/5º ano, mas não completou ...  515.609701\n",
       "Não sei                                             508.234104\n",
       "Não completou a 4ª série/5º ano do Ensino Funda...  499.822302\n",
       "Nunca estudou                                       479.397549"
      ]
     },
     "execution_count": 57,
     "metadata": {},
     "output_type": "execute_result"
    }
   ],
   "source": [
    "df[['Q001', 'NOTA_FINAL']].groupby('Q001').mean().sort_values(by='NOTA_FINAL', ascending=False)"
   ]
  },
  {
   "cell_type": "code",
   "execution_count": 58,
   "id": "54145615-bfde-4c18-bd68-4d9493c1d326",
   "metadata": {},
   "outputs": [
    {
     "data": {
      "image/png": "[encoded data removed]",
      "text/plain": [
       "<Figure size 1500x400 with 1 Axes>"
      ]
     },
     "metadata": {},
     "output_type": "display_data"
    }
   ],
   "source": [
    "fig, ax = plt.subplots(figsize=(15,4))\n",
    "\n",
    "df[['Q001', 'NOTA_FINAL']].groupby('Q001').mean().sort_values(by='NOTA_FINAL', ascending=False).plot(ax=ax, rot=90, legend=False)\n",
    "\n",
    "ax.grid()\n",
    "ax.set_xlabel('')\n",
    "ax.set_title('Nota Final x Escolaridade Pai')\n",
    "plt.show()"
   ]
  },
  {
   "cell_type": "code",
   "execution_count": 59,
   "id": "f94f9028-b738-4bf0-aeaf-ed45bbe4803e",
   "metadata": {},
   "outputs": [
    {
     "data": {
      "text/html": [
       "<div>\n",
       "<style scoped>\n",
       "    .dataframe tbody tr th:only-of-type {\n",
       "        vertical-align: middle;\n",
       "    }\n",
       "\n",
       "    .dataframe tbody tr th {\n",
       "        vertical-align: top;\n",
       "    }\n",
       "\n",
       "    .dataframe thead th {\n",
       "        text-align: right;\n",
       "    }\n",
       "</style>\n",
       "<table border=\"1\" class=\"dataframe\">\n",
       "  <thead>\n",
       "    <tr style=\"text-align: right;\">\n",
       "      <th></th>\n",
       "      <th>NOTA_FINAL</th>\n",
       "    </tr>\n",
       "    <tr>\n",
       "      <th>Q002</th>\n",
       "      <th></th>\n",
       "    </tr>\n",
       "  </thead>\n",
       "  <tbody>\n",
       "    <tr>\n",
       "      <th>Completou a Pós-graduação</th>\n",
       "      <td>583.550884</td>\n",
       "    </tr>\n",
       "    <tr>\n",
       "      <th>Completou a Faculdade, mas não completou a Pós-graduação</th>\n",
       "      <td>574.985641</td>\n",
       "    </tr>\n",
       "    <tr>\n",
       "      <th>Completou o Ensino Médio, mas não completou a Faculdade</th>\n",
       "      <td>534.842225</td>\n",
       "    </tr>\n",
       "    <tr>\n",
       "      <th>Completou a 8ª série/9º ano do Ensino Fundamental, mas não completou o Ensino Médio</th>\n",
       "      <td>514.695512</td>\n",
       "    </tr>\n",
       "    <tr>\n",
       "      <th>Completou a 4ª série/5º ano, mas não completou a 8ª série/9º ano do Ensino Fundamental</th>\n",
       "      <td>506.964334</td>\n",
       "    </tr>\n",
       "    <tr>\n",
       "      <th>Não completou a 4ª série/5º ano do Ensino Fundamental</th>\n",
       "      <td>493.720497</td>\n",
       "    </tr>\n",
       "    <tr>\n",
       "      <th>Não sei</th>\n",
       "      <td>490.651805</td>\n",
       "    </tr>\n",
       "    <tr>\n",
       "      <th>Nunca estudou</th>\n",
       "      <td>472.645714</td>\n",
       "    </tr>\n",
       "  </tbody>\n",
       "</table>\n",
       "</div>"
      ],
      "text/plain": [
       "                                                    NOTA_FINAL\n",
       "Q002                                                          \n",
       "Completou a Pós-graduação                           583.550884\n",
       "Completou a Faculdade, mas não completou a Pós-...  574.985641\n",
       "Completou o Ensino Médio, mas não completou a F...  534.842225\n",
       "Completou a 8ª série/9º ano do Ensino Fundament...  514.695512\n",
       "Completou a 4ª série/5º ano, mas não completou ...  506.964334\n",
       "Não completou a 4ª série/5º ano do Ensino Funda...  493.720497\n",
       "Não sei                                             490.651805\n",
       "Nunca estudou                                       472.645714"
      ]
     },
     "execution_count": 59,
     "metadata": {},
     "output_type": "execute_result"
    }
   ],
   "source": [
    "df[['Q002', 'NOTA_FINAL']].groupby('Q002').mean().sort_values(by='NOTA_FINAL', ascending=False)"
   ]
  },
  {
   "cell_type": "code",
   "execution_count": 60,
   "id": "6fde8220-49d4-4e15-9928-1122402f7b84",
   "metadata": {},
   "outputs": [
    {
     "data": {
      "image/png": "[encoded data removed]",
      "text/plain": [
       "<Figure size 1500x400 with 1 Axes>"
      ]
     },
     "metadata": {},
     "output_type": "display_data"
    }
   ],
   "source": [
    "fig, ax = plt.subplots(1, 1, figsize=(15,4))\n",
    "\n",
    "df[['Q002', 'NOTA_FINAL']].groupby('Q002').mean().sort_values(by='NOTA_FINAL', ascending=False).plot(ax=ax, rot=90, legend=False)\n",
    "\n",
    "ax.grid()\n",
    "ax.set_xlabel('')\n",
    "ax.set_title('Nota Final x Escolaridade Mãe')\n",
    "plt.show()"
   ]
  },
  {
   "cell_type": "code",
   "execution_count": 61,
   "id": "1cc4158b-e344-47f1-93c3-8b7e6ed6847b",
   "metadata": {},
   "outputs": [],
   "source": [
    "df['Q003'] = df['Q003'].map({\n",
    "    'A': 'Grupo 1', \n",
    "    'B': 'Grupo 2', \n",
    "    'C': 'Grupo 3', \n",
    "    'D': 'Grupo 4',\n",
    "    'E': 'Grupo 5', \n",
    "    'F': 'Não sei'\n",
    "})"
   ]
  },
  {
   "cell_type": "code",
   "execution_count": 62,
   "id": "829b302d-e0bf-4d5a-b1c4-0e4056c73c6e",
   "metadata": {},
   "outputs": [
    {
     "data": {
      "text/html": [
       "<div>\n",
       "<style scoped>\n",
       "    .dataframe tbody tr th:only-of-type {\n",
       "        vertical-align: middle;\n",
       "    }\n",
       "\n",
       "    .dataframe tbody tr th {\n",
       "        vertical-align: top;\n",
       "    }\n",
       "\n",
       "    .dataframe thead th {\n",
       "        text-align: right;\n",
       "    }\n",
       "</style>\n",
       "<table border=\"1\" class=\"dataframe\">\n",
       "  <thead>\n",
       "    <tr style=\"text-align: right;\">\n",
       "      <th></th>\n",
       "      <th>NOTA_FINAL</th>\n",
       "    </tr>\n",
       "    <tr>\n",
       "      <th>Q003</th>\n",
       "      <th></th>\n",
       "    </tr>\n",
       "  </thead>\n",
       "  <tbody>\n",
       "    <tr>\n",
       "      <th>Grupo 5</th>\n",
       "      <td>605.034878</td>\n",
       "    </tr>\n",
       "    <tr>\n",
       "      <th>Grupo 4</th>\n",
       "      <td>571.905082</td>\n",
       "    </tr>\n",
       "    <tr>\n",
       "      <th>Grupo 3</th>\n",
       "      <td>527.010442</td>\n",
       "    </tr>\n",
       "    <tr>\n",
       "      <th>Grupo 2</th>\n",
       "      <td>517.564346</td>\n",
       "    </tr>\n",
       "    <tr>\n",
       "      <th>Não sei</th>\n",
       "      <td>513.584491</td>\n",
       "    </tr>\n",
       "    <tr>\n",
       "      <th>Grupo 1</th>\n",
       "      <td>493.009227</td>\n",
       "    </tr>\n",
       "  </tbody>\n",
       "</table>\n",
       "</div>"
      ],
      "text/plain": [
       "         NOTA_FINAL\n",
       "Q003               \n",
       "Grupo 5  605.034878\n",
       "Grupo 4  571.905082\n",
       "Grupo 3  527.010442\n",
       "Grupo 2  517.564346\n",
       "Não sei  513.584491\n",
       "Grupo 1  493.009227"
      ]
     },
     "execution_count": 62,
     "metadata": {},
     "output_type": "execute_result"
    }
   ],
   "source": [
    "df[['Q003', 'NOTA_FINAL']].groupby('Q003').mean().sort_values(by='NOTA_FINAL', ascending=False)"
   ]
  },
  {
   "cell_type": "code",
   "execution_count": 63,
   "id": "0e5aae24-020d-4fca-9de4-198629c6920a",
   "metadata": {},
   "outputs": [
    {
     "data": {
      "image/png": "[encoded data removed]",
      "text/plain": [
       "<Figure size 1500x400 with 1 Axes>"
      ]
     },
     "metadata": {},
     "output_type": "display_data"
    }
   ],
   "source": [
    "fig, ax = plt.subplots(1, 1, figsize=(15,4))\n",
    "\n",
    "df[['Q003', 'NOTA_FINAL']].groupby('Q003').mean().sort_values(by='NOTA_FINAL', ascending=False).plot(ax=ax, legend=False)\n",
    "\n",
    "ax.grid()\n",
    "ax.set_xlabel('')\n",
    "ax.set_title('Nota Final x Ocupação Pai')\n",
    "plt.show()"
   ]
  },
  {
   "cell_type": "code",
   "execution_count": 64,
   "id": "ec463a70-1b54-4971-8a7d-31444141208b",
   "metadata": {},
   "outputs": [],
   "source": [
    "df['Q004'] = df['Q004'].map({\n",
    "    'A': 'Grupo 1', \n",
    "    'B': 'Grupo 2', \n",
    "    'C': 'Grupo 3', \n",
    "    'D': 'Grupo 4',\n",
    "    'E': 'Grupo 5', \n",
    "    'F': 'Não sei'\n",
    "})"
   ]
  },
  {
   "cell_type": "code",
   "execution_count": 65,
   "id": "104bb5b6-02d3-4b45-907d-5c0b92254284",
   "metadata": {},
   "outputs": [
    {
     "data": {
      "text/html": [
       "<div>\n",
       "<style scoped>\n",
       "    .dataframe tbody tr th:only-of-type {\n",
       "        vertical-align: middle;\n",
       "    }\n",
       "\n",
       "    .dataframe tbody tr th {\n",
       "        vertical-align: top;\n",
       "    }\n",
       "\n",
       "    .dataframe thead th {\n",
       "        text-align: right;\n",
       "    }\n",
       "</style>\n",
       "<table border=\"1\" class=\"dataframe\">\n",
       "  <thead>\n",
       "    <tr style=\"text-align: right;\">\n",
       "      <th></th>\n",
       "      <th>NOTA_FINAL</th>\n",
       "    </tr>\n",
       "    <tr>\n",
       "      <th>Q004</th>\n",
       "      <th></th>\n",
       "    </tr>\n",
       "  </thead>\n",
       "  <tbody>\n",
       "    <tr>\n",
       "      <th>Grupo 5</th>\n",
       "      <td>605.053091</td>\n",
       "    </tr>\n",
       "    <tr>\n",
       "      <th>Grupo 4</th>\n",
       "      <td>567.591756</td>\n",
       "    </tr>\n",
       "    <tr>\n",
       "      <th>Grupo 3</th>\n",
       "      <td>528.521172</td>\n",
       "    </tr>\n",
       "    <tr>\n",
       "      <th>Não sei</th>\n",
       "      <td>523.433244</td>\n",
       "    </tr>\n",
       "    <tr>\n",
       "      <th>Grupo 2</th>\n",
       "      <td>520.208324</td>\n",
       "    </tr>\n",
       "    <tr>\n",
       "      <th>Grupo 1</th>\n",
       "      <td>487.721830</td>\n",
       "    </tr>\n",
       "  </tbody>\n",
       "</table>\n",
       "</div>"
      ],
      "text/plain": [
       "         NOTA_FINAL\n",
       "Q004               \n",
       "Grupo 5  605.053091\n",
       "Grupo 4  567.591756\n",
       "Grupo 3  528.521172\n",
       "Não sei  523.433244\n",
       "Grupo 2  520.208324\n",
       "Grupo 1  487.721830"
      ]
     },
     "execution_count": 65,
     "metadata": {},
     "output_type": "execute_result"
    }
   ],
   "source": [
    "df[['Q004', 'NOTA_FINAL']].groupby('Q004').mean().sort_values(by='NOTA_FINAL', ascending=False)"
   ]
  },
  {
   "cell_type": "code",
   "execution_count": 66,
   "id": "2ed23db8-6669-4775-91ad-48c9b8167621",
   "metadata": {},
   "outputs": [
    {
     "data": {
      "image/png": "[encoded data removed]",
      "text/plain": [
       "<Figure size 1500x400 with 1 Axes>"
      ]
     },
     "metadata": {},
     "output_type": "display_data"
    }
   ],
   "source": [
    "fig, ax = plt.subplots(1, 1, figsize=(15,4))\n",
    "\n",
    "df[['Q004', 'NOTA_FINAL']].groupby('Q004').mean().sort_values(by='NOTA_FINAL', ascending=False).plot(ax=ax, legend=False)\n",
    "\n",
    "ax.grid()\n",
    "ax.set_xlabel('')\n",
    "ax.set_title('Nota Final x Ocupação Mãe')\n",
    "plt.show()"
   ]
  },
  {
   "cell_type": "code",
   "execution_count": 67,
   "id": "3acbaab6-1ac8-4d0c-a89c-5b879a94e104",
   "metadata": {},
   "outputs": [],
   "source": [
    "def agrupar_renda_familiar(valor):\n",
    "    if valor == 'A':\n",
    "        return 'Nenhuma Renda'\n",
    "    elif valor == 'B' or valor == 'C' or valor == 'D' or valor == 'E' or valor == 'F' :\n",
    "        return 'Classe DE'\n",
    "    elif valor == 'G' or valor == 'H' or valor == 'I' or valor == 'J':\n",
    "         return 'Classe C'\n",
    "    elif valor == 'K' or valor == 'L' or valor == 'M' or valor == 'N' or valor == 'O':\n",
    "         return 'Classe B'\n",
    "    else:\n",
    "        return 'Classe A'"
   ]
  },
  {
   "cell_type": "code",
   "execution_count": 68,
   "id": "4643e973-2648-4b1f-aabb-5c45e2097305",
   "metadata": {},
   "outputs": [],
   "source": [
    "df['Q006_agrupado'] = df['Q006'].apply(agrupar_renda_familiar)"
   ]
  },
  {
   "cell_type": "code",
   "execution_count": 69,
   "id": "7b59ee33-f425-47e8-acd9-74ceac5d1667",
   "metadata": {},
   "outputs": [
    {
     "data": {
      "text/plain": [
       "Classe DE        0.703443\n",
       "Classe C         0.147052\n",
       "Classe B         0.063978\n",
       "Nenhuma Renda    0.059624\n",
       "Classe A         0.025902\n",
       "Name: Q006_agrupado, dtype: float64"
      ]
     },
     "execution_count": 69,
     "metadata": {},
     "output_type": "execute_result"
    }
   ],
   "source": [
    "df['Q006_agrupado'].value_counts(normalize=True)"
   ]
  },
  {
   "cell_type": "code",
   "execution_count": 70,
   "id": "d5663dfd-5398-4d28-8eec-27ebf07d2d43",
   "metadata": {},
   "outputs": [
    {
     "data": {
      "text/html": [
       "<div>\n",
       "<style scoped>\n",
       "    .dataframe tbody tr th:only-of-type {\n",
       "        vertical-align: middle;\n",
       "    }\n",
       "\n",
       "    .dataframe tbody tr th {\n",
       "        vertical-align: top;\n",
       "    }\n",
       "\n",
       "    .dataframe thead th {\n",
       "        text-align: right;\n",
       "    }\n",
       "</style>\n",
       "<table border=\"1\" class=\"dataframe\">\n",
       "  <thead>\n",
       "    <tr style=\"text-align: right;\">\n",
       "      <th></th>\n",
       "      <th>NOTA_FINAL</th>\n",
       "    </tr>\n",
       "    <tr>\n",
       "      <th>Q006_agrupado</th>\n",
       "      <th></th>\n",
       "    </tr>\n",
       "  </thead>\n",
       "  <tbody>\n",
       "    <tr>\n",
       "      <th>Classe A</th>\n",
       "      <td>629.111885</td>\n",
       "    </tr>\n",
       "    <tr>\n",
       "      <th>Classe B</th>\n",
       "      <td>607.056685</td>\n",
       "    </tr>\n",
       "    <tr>\n",
       "      <th>Classe C</th>\n",
       "      <td>575.282697</td>\n",
       "    </tr>\n",
       "    <tr>\n",
       "      <th>Classe DE</th>\n",
       "      <td>516.365777</td>\n",
       "    </tr>\n",
       "    <tr>\n",
       "      <th>Nenhuma Renda</th>\n",
       "      <td>476.032752</td>\n",
       "    </tr>\n",
       "  </tbody>\n",
       "</table>\n",
       "</div>"
      ],
      "text/plain": [
       "               NOTA_FINAL\n",
       "Q006_agrupado            \n",
       "Classe A       629.111885\n",
       "Classe B       607.056685\n",
       "Classe C       575.282697\n",
       "Classe DE      516.365777\n",
       "Nenhuma Renda  476.032752"
      ]
     },
     "execution_count": 70,
     "metadata": {},
     "output_type": "execute_result"
    }
   ],
   "source": [
    "df[['Q006_agrupado', 'NOTA_FINAL']].groupby('Q006_agrupado').mean().sort_values(by='NOTA_FINAL', ascending=False)"
   ]
  },
  {
   "cell_type": "code",
   "execution_count": 71,
   "id": "7e38b92d-1c32-4369-b7c0-a1d09368f06d",
   "metadata": {},
   "outputs": [
    {
     "data": {
      "image/png": "[encoded data removed]",
      "text/plain": [
       "<Figure size 1500x400 with 1 Axes>"
      ]
     },
     "metadata": {},
     "output_type": "display_data"
    }
   ],
   "source": [
    "fig, ax = plt.subplots(1, 1, figsize=(15,4))\n",
    "\n",
    "df[['Q006_agrupado', 'NOTA_FINAL']].groupby('Q006_agrupado').mean().sort_values(by='NOTA_FINAL', ascending=False).plot(ax=ax, legend=False)\n",
    "\n",
    "ax.grid()\n",
    "ax.set_xlabel('')\n",
    "ax.set_title('Nota Final x Renda Familiar')\n",
    "plt.show()"
   ]
  },
  {
   "cell_type": "markdown",
   "id": "415f46c0-18bc-493c-81ec-72e110b5d759",
   "metadata": {},
   "source": [
    "## Notas de corte nas universidades\n",
    "---\n",
    "\n",
    "- Buscado analisar os resultados de nota de corte em algumas universidades, temos as duas notas mais altas: MEDICINA: 771.79 e DIREITO: 685.44. \n",
    "- Os dados indicam que as escolas Privadas tiveram mais participantes com notas próximas as notas de corte para os cursos de Medicina e Direito.\n",
    "\n",
    "- https://portalpne.com/enem/enem-2021-veja-simulado-com-notas-de-corte-para-garantir-vaga-no-sisu/"
   ]
  },
  {
   "cell_type": "code",
   "execution_count": 72,
   "id": "50c80aa8-2d03-48db-a68e-29b7f4b5e7c7",
   "metadata": {},
   "outputs": [
    {
     "data": {
      "text/html": [
       "<div>\n",
       "<style scoped>\n",
       "    .dataframe tbody tr th:only-of-type {\n",
       "        vertical-align: middle;\n",
       "    }\n",
       "\n",
       "    .dataframe tbody tr th {\n",
       "        vertical-align: top;\n",
       "    }\n",
       "\n",
       "    .dataframe thead th {\n",
       "        text-align: right;\n",
       "    }\n",
       "</style>\n",
       "<table border=\"1\" class=\"dataframe\">\n",
       "  <thead>\n",
       "    <tr style=\"text-align: right;\">\n",
       "      <th></th>\n",
       "      <th>NU_INSCRICAO</th>\n",
       "    </tr>\n",
       "    <tr>\n",
       "      <th>TP_DEPENDENCIA_ADM_ESC</th>\n",
       "      <th></th>\n",
       "    </tr>\n",
       "  </thead>\n",
       "  <tbody>\n",
       "    <tr>\n",
       "      <th>Estadual</th>\n",
       "      <td>80</td>\n",
       "    </tr>\n",
       "    <tr>\n",
       "      <th>Federal</th>\n",
       "      <td>243</td>\n",
       "    </tr>\n",
       "    <tr>\n",
       "      <th>Municipal</th>\n",
       "      <td>1</td>\n",
       "    </tr>\n",
       "    <tr>\n",
       "      <th>Privada</th>\n",
       "      <td>1998</td>\n",
       "    </tr>\n",
       "  </tbody>\n",
       "</table>\n",
       "</div>"
      ],
      "text/plain": [
       "                        NU_INSCRICAO\n",
       "TP_DEPENDENCIA_ADM_ESC              \n",
       "Estadual                          80\n",
       "Federal                          243\n",
       "Municipal                          1\n",
       "Privada                         1998"
      ]
     },
     "execution_count": 72,
     "metadata": {},
     "output_type": "execute_result"
    }
   ],
   "source": [
    "df[df['NOTA_FINAL'] >= 771.79][['TP_DEPENDENCIA_ADM_ESC', 'NU_INSCRICAO']].groupby('TP_DEPENDENCIA_ADM_ESC').count()"
   ]
  },
  {
   "cell_type": "code",
   "execution_count": 73,
   "id": "9a04408d-cc67-4061-b662-8052a50176e1",
   "metadata": {},
   "outputs": [
    {
     "data": {
      "text/html": [
       "<div>\n",
       "<style scoped>\n",
       "    .dataframe tbody tr th:only-of-type {\n",
       "        vertical-align: middle;\n",
       "    }\n",
       "\n",
       "    .dataframe tbody tr th {\n",
       "        vertical-align: top;\n",
       "    }\n",
       "\n",
       "    .dataframe thead th {\n",
       "        text-align: right;\n",
       "    }\n",
       "</style>\n",
       "<table border=\"1\" class=\"dataframe\">\n",
       "  <thead>\n",
       "    <tr style=\"text-align: right;\">\n",
       "      <th></th>\n",
       "      <th>NU_INSCRICAO</th>\n",
       "    </tr>\n",
       "    <tr>\n",
       "      <th>TP_DEPENDENCIA_ADM_ESC</th>\n",
       "      <th></th>\n",
       "    </tr>\n",
       "  </thead>\n",
       "  <tbody>\n",
       "    <tr>\n",
       "      <th>Estadual</th>\n",
       "      <td>4005</td>\n",
       "    </tr>\n",
       "    <tr>\n",
       "      <th>Federal</th>\n",
       "      <td>4641</td>\n",
       "    </tr>\n",
       "    <tr>\n",
       "      <th>Municipal</th>\n",
       "      <td>92</td>\n",
       "    </tr>\n",
       "    <tr>\n",
       "      <th>Privada</th>\n",
       "      <td>30226</td>\n",
       "    </tr>\n",
       "  </tbody>\n",
       "</table>\n",
       "</div>"
      ],
      "text/plain": [
       "                        NU_INSCRICAO\n",
       "TP_DEPENDENCIA_ADM_ESC              \n",
       "Estadual                        4005\n",
       "Federal                         4641\n",
       "Municipal                         92\n",
       "Privada                        30226"
      ]
     },
     "execution_count": 73,
     "metadata": {},
     "output_type": "execute_result"
    }
   ],
   "source": [
    "df[df['NOTA_FINAL'] >= 685.44][['TP_DEPENDENCIA_ADM_ESC', 'NU_INSCRICAO']].groupby('TP_DEPENDENCIA_ADM_ESC').count()"
   ]
  },
  {
   "cell_type": "markdown",
   "id": "e7f03208-599a-4635-a352-eff8f0414f32",
   "metadata": {},
   "source": [
    "## Correlações\n",
    "---\n",
    "\n",
    "- O coeficiente de correlação não mede a relação causa e efeito entre as variáveis, mas essa relação pode está presente.\n",
    "\n",
    "- Analisando entre as variáveis:\n",
    "\n",
    "    - TP_DEPENDENCIA_ADM_ESC: Classificação das escolas em Federal, Estadual, Municipal e Privada do participante.\n",
    "    - Q001: Nível de escolaridade do pai, ou o homem responsável pelo participante.\n",
    "    - Q002: Nível de escolaridade da mãe, ou a mulher responsável pelo participante.\n",
    "    - Q003: Grupo da ocupação do pai, ou o homem responsável pelo participante.\n",
    "    - Q004: Grupo da ocupação da mãe, ou a mulher responsável pelo participante.\n",
    "    - Q006: Renda mensal da família do participante.\n",
    "<br><br>\n",
    "- Observa-se uma correlação positiva ou direta entre todas as variáveis selecionadas.\n",
    "- Observa-se também um correlação mais regular (0,4 < r =< 0,6) entre a questão do Tipo da Escola (TP_DEPENDENCIA_ADM_ESC) e a Renda Familiar (Q006), o nível de escolaridade do pai (Q001) e da mãe (Q002) e o nível de escolaridade e o grupo de ocupação."
   ]
  },
  {
   "cell_type": "code",
   "execution_count": 74,
   "id": "ec60e9d5-f964-42a0-bbf6-d752c6b50f93",
   "metadata": {},
   "outputs": [],
   "source": [
    "df['TP_DEPENDENCIA_ADM_ESC'] = df['TP_DEPENDENCIA_ADM_ESC'].map({'Federal':1, 'Estadual':2, 'Municipal':3, 'Privada':4})"
   ]
  },
  {
   "cell_type": "code",
   "execution_count": 75,
   "id": "970d664c-974e-488c-a886-c781461255b3",
   "metadata": {},
   "outputs": [
    {
     "data": {
      "text/plain": [
       "0          NaN\n",
       "1          NaN\n",
       "2          NaN\n",
       "3          2.0\n",
       "4          2.0\n",
       "          ... \n",
       "3389827    NaN\n",
       "3389828    NaN\n",
       "3389829    NaN\n",
       "3389830    NaN\n",
       "3389831    NaN\n",
       "Name: TP_DEPENDENCIA_ADM_ESC, Length: 3389832, dtype: float64"
      ]
     },
     "execution_count": 75,
     "metadata": {},
     "output_type": "execute_result"
    }
   ],
   "source": [
    "df['TP_DEPENDENCIA_ADM_ESC']"
   ]
  },
  {
   "cell_type": "code",
   "execution_count": 76,
   "id": "ae825e7a-bb2d-4e84-850a-a353c1f3fa88",
   "metadata": {},
   "outputs": [],
   "source": [
    "df['Q001'] = df['Q001'].map({\n",
    "    'Nunca estudou': 'A', \n",
    "    'Não completou a 4ª série/5º ano do Ensino Fundamental': 'B', \n",
    "    'Completou a 4ª série/5º ano, mas não completou a 8ª série/9º ano do Ensino Fundamental': 'C', \n",
    "    'Completou a 8ª série/9º ano do Ensino Fundamental, mas não completou o Ensino Médio': 'D',\n",
    "    'Completou o Ensino Médio, mas não completou a Faculdade': 'E', \n",
    "    'Completou a Faculdade, mas não completou a Pós-graduação': 'F', \n",
    "    'Completou a Pós-graduação': 'G', \n",
    "    'Não sei': 'H'\n",
    "})"
   ]
  },
  {
   "cell_type": "code",
   "execution_count": 77,
   "id": "f1cf8c7a-45cb-4bba-8a49-2f31adc47e28",
   "metadata": {},
   "outputs": [],
   "source": [
    "df['Q002'] = df['Q002'].map({\n",
    "    'Nunca estudou': 'A', \n",
    "    'Não completou a 4ª série/5º ano do Ensino Fundamental': 'B', \n",
    "    'Completou a 4ª série/5º ano, mas não completou a 8ª série/9º ano do Ensino Fundamental': 'C', \n",
    "    'Completou a 8ª série/9º ano do Ensino Fundamental, mas não completou o Ensino Médio': 'D',\n",
    "    'Completou o Ensino Médio, mas não completou a Faculdade': 'E', \n",
    "    'Completou a Faculdade, mas não completou a Pós-graduação': 'F', \n",
    "    'Completou a Pós-graduação': 'G', \n",
    "    'Não sei': 'H'\n",
    "})"
   ]
  },
  {
   "cell_type": "code",
   "execution_count": 78,
   "id": "048f72eb-d66c-407f-a065-a9ae3026103d",
   "metadata": {},
   "outputs": [],
   "source": [
    "df['Q003'] = df['Q003'].map({\n",
    "    'Grupo 1': 'A', \n",
    "    'Grupo 2': 'B', \n",
    "    'Grupo 3': 'C', \n",
    "    'Grupo 4': 'D',\n",
    "    'Grupo 5': 'E', \n",
    "    'Não sei': 'F'\n",
    "})"
   ]
  },
  {
   "cell_type": "code",
   "execution_count": 79,
   "id": "f0aa54e7-5921-4151-ba13-3edd5d8659c4",
   "metadata": {},
   "outputs": [],
   "source": [
    "df['Q004'] = df['Q004'].map({\n",
    "    'Grupo 1': 'A', \n",
    "    'Grupo 2': 'B', \n",
    "    'Grupo 3': 'C', \n",
    "    'Grupo 4': 'D',\n",
    "    'Grupo 5': 'E', \n",
    "    'Não sei': 'F'\n",
    "})"
   ]
  },
  {
   "cell_type": "code",
   "execution_count": 80,
   "id": "bd334c6d-a0ab-4d96-a5e9-10fb5ef1a2f1",
   "metadata": {},
   "outputs": [],
   "source": [
    "qse = df[['TP_DEPENDENCIA_ADM_ESC', 'Q001','Q002','Q003','Q004','Q006']]\n",
    "qse_sem_na = qse.dropna()"
   ]
  },
  {
   "cell_type": "code",
   "execution_count": 81,
   "id": "c4746a34-010e-482d-a167-17b60752e8df",
   "metadata": {},
   "outputs": [
    {
     "name": "stderr",
     "output_type": "stream",
     "text": [
      "C:\\Users\\karin\\AppData\\Local\\Temp\\ipykernel_2904\\4015354486.py:1: SettingWithCopyWarning: \n",
      "A value is trying to be set on a copy of a slice from a DataFrame.\n",
      "Try using .loc[row_indexer,col_indexer] = value instead\n",
      "\n",
      "See the caveats in the documentation: https://pandas.pydata.org/pandas-docs/stable/user_guide/indexing.html#returning-a-view-versus-a-copy\n",
      "  qse_sem_na.loc[:, 'Q001'] = pd.factorize(qse_sem_na['Q001'], sort=True)[0]\n",
      "C:\\Users\\karin\\AppData\\Local\\Temp\\ipykernel_2904\\4015354486.py:2: SettingWithCopyWarning: \n",
      "A value is trying to be set on a copy of a slice from a DataFrame.\n",
      "Try using .loc[row_indexer,col_indexer] = value instead\n",
      "\n",
      "See the caveats in the documentation: https://pandas.pydata.org/pandas-docs/stable/user_guide/indexing.html#returning-a-view-versus-a-copy\n",
      "  qse_sem_na.loc[:, 'Q002'] = pd.factorize(qse_sem_na['Q002'], sort=True)[0]\n",
      "C:\\Users\\karin\\AppData\\Local\\Temp\\ipykernel_2904\\4015354486.py:3: SettingWithCopyWarning: \n",
      "A value is trying to be set on a copy of a slice from a DataFrame.\n",
      "Try using .loc[row_indexer,col_indexer] = value instead\n",
      "\n",
      "See the caveats in the documentation: https://pandas.pydata.org/pandas-docs/stable/user_guide/indexing.html#returning-a-view-versus-a-copy\n",
      "  qse_sem_na.loc[:, 'Q003'] = pd.factorize(qse_sem_na['Q003'], sort=True)[0]\n",
      "C:\\Users\\karin\\AppData\\Local\\Temp\\ipykernel_2904\\4015354486.py:4: SettingWithCopyWarning: \n",
      "A value is trying to be set on a copy of a slice from a DataFrame.\n",
      "Try using .loc[row_indexer,col_indexer] = value instead\n",
      "\n",
      "See the caveats in the documentation: https://pandas.pydata.org/pandas-docs/stable/user_guide/indexing.html#returning-a-view-versus-a-copy\n",
      "  qse_sem_na.loc[:, 'Q004'] = pd.factorize(qse_sem_na['Q004'], sort=True)[0]\n",
      "C:\\Users\\karin\\AppData\\Local\\Temp\\ipykernel_2904\\4015354486.py:5: SettingWithCopyWarning: \n",
      "A value is trying to be set on a copy of a slice from a DataFrame.\n",
      "Try using .loc[row_indexer,col_indexer] = value instead\n",
      "\n",
      "See the caveats in the documentation: https://pandas.pydata.org/pandas-docs/stable/user_guide/indexing.html#returning-a-view-versus-a-copy\n",
      "  qse_sem_na.loc[:, 'Q006'] = pd.factorize(qse_sem_na['Q006'], sort=True)[0]\n"
     ]
    }
   ],
   "source": [
    "qse_sem_na.loc[:, 'Q001'] = pd.factorize(qse_sem_na['Q001'], sort=True)[0]\n",
    "qse_sem_na.loc[:, 'Q002'] = pd.factorize(qse_sem_na['Q002'], sort=True)[0]\n",
    "qse_sem_na.loc[:, 'Q003'] = pd.factorize(qse_sem_na['Q003'], sort=True)[0]\n",
    "qse_sem_na.loc[:, 'Q004'] = pd.factorize(qse_sem_na['Q004'], sort=True)[0]\n",
    "qse_sem_na.loc[:, 'Q006'] = pd.factorize(qse_sem_na['Q006'], sort=True)[0]"
   ]
  },
  {
   "cell_type": "code",
   "execution_count": 82,
   "id": "c40b05da-0a5e-41ec-8b71-fece3ad45d16",
   "metadata": {},
   "outputs": [
    {
     "data": {
      "text/html": [
       "<div>\n",
       "<style scoped>\n",
       "    .dataframe tbody tr th:only-of-type {\n",
       "        vertical-align: middle;\n",
       "    }\n",
       "\n",
       "    .dataframe tbody tr th {\n",
       "        vertical-align: top;\n",
       "    }\n",
       "\n",
       "    .dataframe thead th {\n",
       "        text-align: right;\n",
       "    }\n",
       "</style>\n",
       "<table border=\"1\" class=\"dataframe\">\n",
       "  <thead>\n",
       "    <tr style=\"text-align: right;\">\n",
       "      <th></th>\n",
       "      <th>TP_DEPENDENCIA_ADM_ESC</th>\n",
       "      <th>Q001</th>\n",
       "      <th>Q002</th>\n",
       "      <th>Q003</th>\n",
       "      <th>Q004</th>\n",
       "      <th>Q006</th>\n",
       "    </tr>\n",
       "  </thead>\n",
       "  <tbody>\n",
       "    <tr>\n",
       "      <th>3</th>\n",
       "      <td>2.0</td>\n",
       "      <td>1</td>\n",
       "      <td>1</td>\n",
       "      <td>1</td>\n",
       "      <td>1</td>\n",
       "      <td>1</td>\n",
       "    </tr>\n",
       "    <tr>\n",
       "      <th>4</th>\n",
       "      <td>2.0</td>\n",
       "      <td>3</td>\n",
       "      <td>4</td>\n",
       "      <td>5</td>\n",
       "      <td>3</td>\n",
       "      <td>2</td>\n",
       "    </tr>\n",
       "    <tr>\n",
       "      <th>14</th>\n",
       "      <td>1.0</td>\n",
       "      <td>6</td>\n",
       "      <td>4</td>\n",
       "      <td>4</td>\n",
       "      <td>2</td>\n",
       "      <td>1</td>\n",
       "    </tr>\n",
       "    <tr>\n",
       "      <th>33</th>\n",
       "      <td>2.0</td>\n",
       "      <td>2</td>\n",
       "      <td>2</td>\n",
       "      <td>0</td>\n",
       "      <td>0</td>\n",
       "      <td>1</td>\n",
       "    </tr>\n",
       "    <tr>\n",
       "      <th>45</th>\n",
       "      <td>1.0</td>\n",
       "      <td>7</td>\n",
       "      <td>4</td>\n",
       "      <td>1</td>\n",
       "      <td>1</td>\n",
       "      <td>2</td>\n",
       "    </tr>\n",
       "  </tbody>\n",
       "</table>\n",
       "</div>"
      ],
      "text/plain": [
       "    TP_DEPENDENCIA_ADM_ESC  Q001  Q002  Q003  Q004  Q006\n",
       "3                      2.0     1     1     1     1     1\n",
       "4                      2.0     3     4     5     3     2\n",
       "14                     1.0     6     4     4     2     1\n",
       "33                     2.0     2     2     0     0     1\n",
       "45                     1.0     7     4     1     1     2"
      ]
     },
     "execution_count": 82,
     "metadata": {},
     "output_type": "execute_result"
    }
   ],
   "source": [
    "qse_sem_na.head()"
   ]
  },
  {
   "cell_type": "code",
   "execution_count": 83,
   "id": "4d3ffd85-4e31-45f3-83fc-a2bb6c09c92e",
   "metadata": {},
   "outputs": [
    {
     "data": {
      "text/html": [
       "<div>\n",
       "<style scoped>\n",
       "    .dataframe tbody tr th:only-of-type {\n",
       "        vertical-align: middle;\n",
       "    }\n",
       "\n",
       "    .dataframe tbody tr th {\n",
       "        vertical-align: top;\n",
       "    }\n",
       "\n",
       "    .dataframe thead th {\n",
       "        text-align: right;\n",
       "    }\n",
       "</style>\n",
       "<table border=\"1\" class=\"dataframe\">\n",
       "  <thead>\n",
       "    <tr style=\"text-align: right;\">\n",
       "      <th></th>\n",
       "      <th>TP_DEPENDENCIA_ADM_ESC</th>\n",
       "      <th>Q001</th>\n",
       "      <th>Q002</th>\n",
       "      <th>Q003</th>\n",
       "      <th>Q004</th>\n",
       "      <th>Q006</th>\n",
       "    </tr>\n",
       "  </thead>\n",
       "  <tbody>\n",
       "    <tr>\n",
       "      <th>TP_DEPENDENCIA_ADM_ESC</th>\n",
       "      <td>1.000000</td>\n",
       "      <td>0.257567</td>\n",
       "      <td>0.304919</td>\n",
       "      <td>0.273314</td>\n",
       "      <td>0.303766</td>\n",
       "      <td>0.540861</td>\n",
       "    </tr>\n",
       "    <tr>\n",
       "      <th>Q001</th>\n",
       "      <td>0.257567</td>\n",
       "      <td>1.000000</td>\n",
       "      <td>0.535701</td>\n",
       "      <td>0.489500</td>\n",
       "      <td>0.337201</td>\n",
       "      <td>0.355474</td>\n",
       "    </tr>\n",
       "    <tr>\n",
       "      <th>Q002</th>\n",
       "      <td>0.304919</td>\n",
       "      <td>0.535701</td>\n",
       "      <td>1.000000</td>\n",
       "      <td>0.359644</td>\n",
       "      <td>0.480149</td>\n",
       "      <td>0.437626</td>\n",
       "    </tr>\n",
       "    <tr>\n",
       "      <th>Q003</th>\n",
       "      <td>0.273314</td>\n",
       "      <td>0.489500</td>\n",
       "      <td>0.359644</td>\n",
       "      <td>1.000000</td>\n",
       "      <td>0.485633</td>\n",
       "      <td>0.373972</td>\n",
       "    </tr>\n",
       "    <tr>\n",
       "      <th>Q004</th>\n",
       "      <td>0.303766</td>\n",
       "      <td>0.337201</td>\n",
       "      <td>0.480149</td>\n",
       "      <td>0.485633</td>\n",
       "      <td>1.000000</td>\n",
       "      <td>0.430786</td>\n",
       "    </tr>\n",
       "    <tr>\n",
       "      <th>Q006</th>\n",
       "      <td>0.540861</td>\n",
       "      <td>0.355474</td>\n",
       "      <td>0.437626</td>\n",
       "      <td>0.373972</td>\n",
       "      <td>0.430786</td>\n",
       "      <td>1.000000</td>\n",
       "    </tr>\n",
       "  </tbody>\n",
       "</table>\n",
       "</div>"
      ],
      "text/plain": [
       "                        TP_DEPENDENCIA_ADM_ESC      Q001      Q002      Q003  \\\n",
       "TP_DEPENDENCIA_ADM_ESC                1.000000  0.257567  0.304919  0.273314   \n",
       "Q001                                  0.257567  1.000000  0.535701  0.489500   \n",
       "Q002                                  0.304919  0.535701  1.000000  0.359644   \n",
       "Q003                                  0.273314  0.489500  0.359644  1.000000   \n",
       "Q004                                  0.303766  0.337201  0.480149  0.485633   \n",
       "Q006                                  0.540861  0.355474  0.437626  0.373972   \n",
       "\n",
       "                            Q004      Q006  \n",
       "TP_DEPENDENCIA_ADM_ESC  0.303766  0.540861  \n",
       "Q001                    0.337201  0.355474  \n",
       "Q002                    0.480149  0.437626  \n",
       "Q003                    0.485633  0.373972  \n",
       "Q004                    1.000000  0.430786  \n",
       "Q006                    0.430786  1.000000  "
      ]
     },
     "execution_count": 83,
     "metadata": {},
     "output_type": "execute_result"
    }
   ],
   "source": [
    "qse_sem_na.corr()"
   ]
  },
  {
   "cell_type": "markdown",
   "id": "df2d948c-7847-4e4f-8998-203e117d9b12",
   "metadata": {
    "tags": []
   },
   "source": [
    "## Conclusão\n",
    "---\n",
    "\n",
    "- O ENEM foi criado para avaliar o desempenho dos estudantes no final da educação básica, foi reformulado com o passar do tempo e hoje é uma importante ferramenta de acesso ao Ensino Superior público, democratizando as oportunidades e possibilitando a mobilidade acadêmica. Do Enem derivam ainda alguns programas de bolsas e financiamento estudantil para universitários e passou a possibilitar, também, a certificação para conclusão do Ensino Médio.\n",
    "\n",
    "- Desta forma as informações sobre os exames e avaliações da educação básica é possível analisar uma série de fatores como:\n",
    "\n",
    "    - A criação de referência nacional para o aperfeiçoamento dos currículos do ensino médio;\n",
    "    - A sua utilização como instrumento de seleção para ingresso nas instituições federais de educação superior e nos diferentes setores do mundo do trabalho;\n",
    "    - E principalmente o desenvolvimento de estudos e indicadores sobre a educação brasileira.\n",
    "<br><br>        \n",
    "- Do ponto de vista do cientista de dados chegamos as seguintes conclusões:\n",
    "    - Perfil dos participantes:\n",
    "        - O ENEM de 2021 teve 3.389.832 de inscritos\n",
    "        - 51% estão na faixa estária entre 17 e 19 anos\n",
    "        - 62% são do sexo feminino\n",
    "        - 88% são solteiros, como esperado devido a faixa etária\n",
    "        - 53% já concluiram o ensino médio e 34% irão concluir no ano de 2021\n",
    "        - 43% são da cor/raça parda\n",
    "     - Perfil das escolas dos participantes:\n",
    "         - Os 3 principais estados das escolas dos participantes são São Paulo (SP), Ceará (CE) e Minas Gerais (MG)\n",
    "         - 67% dos participantes são de escola estadual\n",
    "        - 26% de escola privada\n",
    "        - 96% das escolas estão localizadas em área urbana\n",
    "    - Análise das notas:\n",
    "        - A taxa de presença dos participantes nos dois dias de prova foi de 66%\n",
    "        - O dia com maior ausência foi o das provas de Ciências da Natureza e Matemática (33%)\n",
    "        - A prova de Ciências da Natureza teve resultado médio de 491.79 e máximo de 867.1\n",
    "        - A prova de Ciências Humanas teve resultado médio de 519.94 e máximo de 846.9\n",
    "        - A prova de Linguagens e Códigos teve resultado médio de 502.56 e máximo de 826.1\n",
    "        - A prova de Matemática teve resultado médio 535.08 e máximo de 953.1\n",
    "        - Na escolha da Língua Estrangeira 53% escolheram Inglês e 47% Espanhol\n",
    "    - Análise de nota das provas por sexo:\n",
    "        - A idéia foi verificar se de fato o sexo feminino é melhor em redação e o sexo masculino melhor em matemática\n",
    "        - Quando comparado nota mínima e máxima nos dois temas (redação e matemática) são iguais, o que também confirma pelo boxplot e histograma que as curvas de notas tanto em redação como matemática são bem parecidas independente do sexo informado na inscrição. Sendo por tanto fazer uma afirmação desse tipo uma questão preconceituosa e sexista.\n",
    "    - Análise da nota final por tipo de escola:\n",
    "        - A em relação ao tipo de escola (municipal, estadual, federal e privada) e a nota final é possível verificar uma tendência que as escolas federais e privadas possuem valores de notas mais próximos, o que faz sentido, visto que de forma mais comum, o ingresso nas escolas federais ocorre por meio dos exames de seleção (aplicação de prova) ou por meio da análise de históricos escolares dos Ensinos Fundamental.\n",
    "     - Análise de nota das provas por estado com maior e menor investimento em educação:\n",
    "        - A idéia foi verificar se fato os estados com maior e menor investimento em educação teriam resultados das provas diferentes.\n",
    "        - Resultado não é conclusivo, visto através do boxplot que a mediana das notas são próximas. Sendo por tanto fazer uma afirmação com base na região uma questão preconceituosa.\n",
    "    - Análise do questionário socioeconômico e a nota da prova:\n",
    "        - Os dados indicam que existe uma relação entre o grau de escolaridade e as notas. Para os participantes que tem os pais com maior grau de escolaridade, os resultados são maiores na média.\n",
    "        - Os dados indicam que existe uma relação entre as ocupações dos pais que exigem curso superior e as notas, como é o caso dos pais que são profissionais do Grupo 5 (Médico, engenheiro, dentista, psicólogo, economista, advogado, juiz, promotor e outros) onde os respectivos participantes obtiveram as maiores notas e o caso dos pais que são profissionais do Grupo 1 (Lavrador, agricultor sem empregados, bóia fria, criador de animais e outros) onde os respectivos participantes obtiveram as menores notas.\n",
    "        - Os dados indicam que existe uma relação entre a renda familiar e as notas. Famílias com maiores rendas possuem participantes com resultado de valor médio de nota maior.\n",
    "    - Análise do tipo de escola com notas de corte das universidade:\n",
    "        - Os dados indicam que as escolas Privadas tiveram mais participantes com notas próximas as notas de corte para os cursos de Medicina e Direito, os dois cursos com maiores notas de corte nas universidades em 2021.\n",
    "    - Análise de correlações:\n",
    "        - Observa-se uma correlação positiva ou direta entre todas as variáveis selecionadas (Tipo de escola, Escolaridade, Ocupação e Renda)  com o resultado da nota do ENEM.\n",
    "        - Observa-se também um correlação mais regular (0,4 < r =< 0,6) entre a questão do Tipo da Escola (TP_DEPENDENCIA_ADM_ESC) e a Renda Familiar (Q006), o nível de escolaridade do pai (Q001) e da mãe (Q002) e o nível de escolaridade e o grupo de ocupação.\n",
    "\n",
    "\n",
    "- Considerando que o acesso à educação é um direito de todos os brasileiros, garantido pelo artigo 205 da Constituição Federal e uma das principais ferramentas para conter o aumento dos níveis de desigualdade ao redor do mundo, mostra o quanto é importante direcionar os investimentos de forma assertiva, pois quando a educação deixa de receber investimentos acelera a vulnerabilidade social de crianças e de jovens.\n"
   ]
  },
  {
   "cell_type": "code",
   "execution_count": null,
   "id": "c708ed34-4a89-43f4-b65b-e04b21250599",
   "metadata": {},
   "outputs": [],
   "source": []
  }
 ],
 "metadata": {
  "kernelspec": {
   "display_name": "Python 3 (ipykernel)",
   "language": "python",
   "name": "python3"
  },
  "language_info": {
   "codemirror_mode": {
    "name": "ipython",
    "version": 3
   },
   "file_extension": ".py",
   "mimetype": "text/x-python",
   "name": "python",
   "nbconvert_exporter": "python",
   "pygments_lexer": "ipython3",
   "version": "3.9.12"
  }
 },
 "nbformat": 4,
 "nbformat_minor": 5
}
